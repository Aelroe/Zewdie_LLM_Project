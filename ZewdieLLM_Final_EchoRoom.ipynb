{
  "cells": [
    {
      "cell_type": "markdown",
      "source": [
        "# The Echo Room — Dual-Lens Emotion Interpretation with LLMs\n",
        "\n",
        "This notebook contains the full implementation of **The Echo Room**, a project that detects the intended emotion of an author and prepares for analyzing the perceived emotion from a reader.  \n",
        "\n",
        "In this submission, I train a **10-class transformer classifier** on the **GoEmotions** dataset (author perspective) and prepare the **EmpatheticDialogues** dataset (reader perspective) for future modeling.  \n",
        "\n",
        "Key steps:\n",
        "1. Load and clean datasets  \n",
        "2. Align labels to a shared set of 10 emotions  \n",
        "3. Balance the label distribution (cap neutral at 10,000)  \n",
        "4. Train and evaluate the author-perspective model  \n",
        "5. Save results and model for future use  \n"
      ],
      "metadata": {
        "id": "iw4u07yVDSeE"
      }
    },
    {
      "cell_type": "markdown",
      "source": [
        "# Feasibility Stage\n",
        "In this stage, we set up the environment, load datasets, explore data structure, identify shared emotion labels, and run basic visualizations to understand class distributions and potential preprocessing needs.\n"
      ],
      "metadata": {
        "id": "H0gw-20jDXUC"
      }
    },
    {
      "cell_type": "code",
      "execution_count": null,
      "metadata": {
        "collapsed": true,
        "id": "FB3o3Yky-h-B"
      },
      "outputs": [],
      "source": [
        "!pip install -U \"transformers==4.37.2\" \"peft==0.10.0\" \"accelerate==0.27.2\" --quiet"
      ]
    },
    {
      "cell_type": "code",
      "execution_count": null,
      "metadata": {
        "collapsed": true,
        "id": "1BC3l7nHVZa1"
      },
      "outputs": [],
      "source": [
        "import pandas as pd\n",
        "import kagglehub\n",
        "from datasets import load_dataset\n",
        "import os\n",
        "os.environ[\"WANDB_DISABLED\"] = \"true\""
      ]
    },
    {
      "cell_type": "code",
      "execution_count": null,
      "metadata": {
        "colab": {
          "base_uri": "https://localhost:8080/"
        },
        "id": "2tjLnygXXaSe",
        "outputId": "ddedcfdd-5904-4a69-92ff-a7ff6a310aa1"
      },
      "outputs": [
        {
          "output_type": "stream",
          "name": "stdout",
          "text": [
            "GoEmotions Sample:\n",
            "            id                                               text  \\\n",
            "24482  edjin31  Except the ones trying to zipper by flying by ...   \n",
            "\n",
            "       example_very_unclear  admiration  amusement  anger  annoyance  \\\n",
            "24482                 False           0          0      0          0   \n",
            "\n",
            "       approval  caring  confusion  ...  love  nervousness  optimism  pride  \\\n",
            "24482         0       1          0  ...     0            0         0      0   \n",
            "\n",
            "       realization  relief  remorse  sadness  surprise  neutral  \n",
            "24482            0       0        0        0         0        0  \n",
            "\n",
            "[1 rows x 31 columns]\n"
          ]
        }
      ],
      "source": [
        "# Load the GoEmotions dataset from uploaded CSV\n",
        "goemotions_df = pd.read_csv(\"go_emotions_dataset.csv\")\n",
        "print(\"GoEmotions Sample:\")\n",
        "print(goemotions_df.sample(1))\n"
      ]
    },
    {
      "cell_type": "code",
      "execution_count": null,
      "metadata": {
        "colab": {
          "base_uri": "https://localhost:8080/"
        },
        "id": "OWJqokXg2Yn8",
        "outputId": "087d6c82-91d1-4d4d-b4d4-b892cec1cf35"
      },
      "outputs": [
        {
          "output_type": "stream",
          "name": "stdout",
          "text": [
            "Files extracted to: ['empatheticdialogues']\n"
          ]
        }
      ],
      "source": [
        "import tarfile\n",
        "import os\n",
        "\n",
        "# Extract the tar.gz archive\n",
        "with tarfile.open(\"empatheticdialogues.tar.gz\", \"r:gz\") as tar:\n",
        "    tar.extractall(\"empatheticdialogues\")\n",
        "\n",
        "# Confirm extraction\n",
        "print(\"Files extracted to:\", os.listdir(\"empatheticdialogues\"))"
      ]
    },
    {
      "cell_type": "code",
      "execution_count": null,
      "metadata": {
        "colab": {
          "base_uri": "https://localhost:8080/"
        },
        "id": "5NdT_LLZXxYR",
        "outputId": "9a78ba7e-e046-49f5-816d-d0ea7326ce41"
      },
      "outputs": [
        {
          "output_type": "stream",
          "name": "stdout",
          "text": [
            "EmpatheticDialogues Sample:\n",
            "                   conv_id  utterance_idx context  \\\n",
            "33807  hit:5408_conv:10816              2  caring   \n",
            "\n",
            "                                                  prompt  speaker_idx  \\\n",
            "33807  My grandfather was diagnosed with cancer recen...          540   \n",
            "\n",
            "                               utterance     selfeval tags  \n",
            "33807  Oh my God_comma_ that's terrible.  5|5|5_4|4|4  NaN  \n"
          ]
        }
      ],
      "source": [
        "# Load the Cleaned EmpatheticDialogues dataset with error skipping\n",
        "empathetic_df = pd.read_csv(\"empatheticdialogues/empatheticdialogues/train.csv\", on_bad_lines=\"skip\")\n",
        "print(\"EmpatheticDialogues Sample:\")\n",
        "print(empathetic_df.sample(1))\n",
        "\n"
      ]
    },
    {
      "cell_type": "code",
      "execution_count": null,
      "metadata": {
        "colab": {
          "base_uri": "https://localhost:8080/"
        },
        "id": "pDMspXj3a7Uc",
        "outputId": "fc766b71-0446-4cd2-8f18-e5527623cab4"
      },
      "outputs": [
        {
          "output_type": "stream",
          "name": "stdout",
          "text": [
            "GoEmotions Emotion Labels:\n",
            "['admiration', 'amusement', 'anger', 'annoyance', 'approval', 'caring', 'confusion', 'curiosity', 'desire', 'disappointment', 'disapproval', 'disgust', 'embarrassment', 'excitement', 'fear', 'gratitude', 'grief', 'joy', 'love', 'nervousness', 'optimism', 'pride', 'realization', 'relief', 'remorse', 'sadness', 'surprise', 'neutral']\n",
            "\n",
            "Top 10 Emotions by Frequency:\n",
            "neutral        55298\n",
            "approval       17620\n",
            "admiration     17131\n",
            "annoyance      13618\n",
            "gratitude      11625\n",
            "disapproval    11424\n",
            "curiosity       9692\n",
            "amusement       9245\n",
            "realization     8785\n",
            "optimism        8715\n",
            "dtype: int64\n"
          ]
        }
      ],
      "source": [
        "# Show all emotion columns\n",
        "emotion_columns = goemotions_df.columns[3:]  # skip 'id', 'text', 'example_very_unclear'\n",
        "print(\"GoEmotions Emotion Labels:\")\n",
        "print(emotion_columns.tolist())\n",
        "\n",
        "goemotions_label_counts = goemotions_df[emotion_columns].sum().sort_values(ascending=False)\n",
        "print(\"\\nTop 10 Emotions by Frequency:\")\n",
        "print(goemotions_label_counts.head(10))\n"
      ]
    },
    {
      "cell_type": "code",
      "execution_count": null,
      "metadata": {
        "colab": {
          "base_uri": "https://localhost:8080/"
        },
        "id": "iooVFPoVa8sy",
        "outputId": "c5bdf427-cfc7-4fcc-e583-64668bd72572"
      },
      "outputs": [
        {
          "output_type": "stream",
          "name": "stdout",
          "text": [
            "EmpatheticDialogues Emotion Labels:\n",
            "['sentimental' 'afraid' 'proud' 'faithful' 'terrified' 'joyful' 'angry'\n",
            " 'sad' 'jealous' 'grateful' 'prepared' 'embarrassed' 'excited' 'annoyed'\n",
            " 'lonely' 'ashamed' 'guilty' 'surprised' 'nostalgic' 'confident' 'furious'\n",
            " 'disappointed' 'caring' 'trusting' 'disgusted' 'anticipating' 'anxious'\n",
            " 'hopeful' 'content' 'impressed' 'apprehensive' 'devastated']\n",
            "\n",
            "Label Frequencies:\n",
            "context\n",
            "surprised    3956\n",
            "excited      2935\n",
            "angry        2740\n",
            "proud        2719\n",
            "annoyed      2642\n",
            "sad          2634\n",
            "afraid       2510\n",
            "lonely       2503\n",
            "grateful     2487\n",
            "terrified    2487\n",
            "Name: count, dtype: int64\n"
          ]
        }
      ],
      "source": [
        "# Check unique labels in the 'context' column\n",
        "print(\"EmpatheticDialogues Emotion Labels:\")\n",
        "print(empathetic_df['context'].unique())\n",
        "\n",
        "print(\"\\nLabel Frequencies:\")\n",
        "print(empathetic_df['context'].value_counts().head(10))\n"
      ]
    },
    {
      "cell_type": "code",
      "execution_count": null,
      "metadata": {
        "colab": {
          "base_uri": "https://localhost:8080/"
        },
        "id": "MUSlcBo6cv_X",
        "outputId": "c83ac27c-cd80-4ad3-ab92-5f0db5d41757"
      },
      "outputs": [
        {
          "output_type": "stream",
          "name": "stdout",
          "text": [
            "GoEmotions (Cleaned) Sample:\n",
            "                                                     text      label\n",
            "30815                             What a time to be alive        joy\n",
            "205185           Thanks for reminding me not to have kids  gratitude\n",
            "12140   I've been getting it off from the West Wing si...    neutral\n"
          ]
        }
      ],
      "source": [
        "# Define shared label set\n",
        "shared_emotions = [\n",
        "    \"joy\", \"anger\", \"sadness\", \"fear\", \"surprise\",\n",
        "    \"disgust\", \"love\", \"gratitude\", \"neutral\", \"pride\"\n",
        "]\n",
        "\n",
        "# Filter only rows with at least one shared emotion\n",
        "filtered = goemotions_df[goemotions_df[shared_emotions].sum(axis=1) > 0].copy()\n",
        "\n",
        "# For each row, pick the highest scoring (dominant) emotion\n",
        "filtered[\"label\"] = filtered[shared_emotions].idxmax(axis=1)\n",
        "\n",
        "# Keep only text and new label\n",
        "goemotions_clean = filtered[[\"text\", \"label\"]].copy()\n",
        "print(\"GoEmotions (Cleaned) Sample:\")\n",
        "print(goemotions_clean.sample(3))\n"
      ]
    },
    {
      "cell_type": "code",
      "execution_count": null,
      "metadata": {
        "colab": {
          "base_uri": "https://localhost:8080/"
        },
        "id": "dqrVKKYVdulJ",
        "outputId": "c46703b8-50fc-4c30-a8da-f6e87e825152"
      },
      "outputs": [
        {
          "output_type": "stream",
          "name": "stdout",
          "text": [
            "EmpatheticDialogues (Cleaned) Sample:\n",
            "                                                    text label\n",
            "34481  It is worth a look for the new one_comma_ it l...   joy\n",
            "43130  You have done such a great job! You should be ...  fear\n",
            "25868            it was late and the street wasnt lit up  fear\n"
          ]
        }
      ],
      "source": [
        "# Define mapping from EmpatheticDialogues context → shared emotions\n",
        "context_mapping = {\n",
        "    \"joyful\": \"joy\",\n",
        "    \"excited\": \"joy\",\n",
        "    \"content\": \"joy\",\n",
        "    \"hopeful\": \"joy\",\n",
        "\n",
        "    \"proud\": \"pride\",\n",
        "    \"grateful\": \"gratitude\",\n",
        "\n",
        "    \"angry\": \"anger\",\n",
        "    \"furious\": \"anger\",\n",
        "    \"annoyed\": \"anger\",\n",
        "\n",
        "    \"afraid\": \"fear\",\n",
        "    \"terrified\": \"fear\",\n",
        "    \"apprehensive\": \"fear\",\n",
        "\n",
        "    \"sad\": \"sadness\",\n",
        "    \"lonely\": \"sadness\",\n",
        "    \"devastated\": \"sadness\",\n",
        "\n",
        "    \"surprised\": \"surprise\",\n",
        "\n",
        "    \"disgusted\": \"disgust\",\n",
        "\n",
        "    \"sentimental\": \"love\",\n",
        "    \"nostalgic\": \"love\"\n",
        "}\n",
        "\n",
        "# Map the context column\n",
        "empathetic_df[\"label\"] = empathetic_df[\"context\"].map(context_mapping)\n",
        "\n",
        "# Drop rows where mapping failed\n",
        "empathetic_clean = empathetic_df.dropna(subset=[\"label\"])[[\"utterance\", \"label\"]].rename(columns={\n",
        "    \"utterance\": \"text\"\n",
        "})\n",
        "\n",
        "# Preview sample\n",
        "print(\"EmpatheticDialogues (Cleaned) Sample:\")\n",
        "print(empathetic_clean.sample(3))\n"
      ]
    },
    {
      "cell_type": "code",
      "execution_count": null,
      "metadata": {
        "colab": {
          "base_uri": "https://localhost:8080/",
          "height": 507
        },
        "id": "QCB5pkqrfU7s",
        "outputId": "05b369f1-53d4-46e4-d1e8-d9e3a051a079"
      },
      "outputs": [
        {
          "output_type": "display_data",
          "data": {
            "text/plain": [
              "<Figure size 1000x500 with 1 Axes>"
            ],
            "image/png": "[encoded data removed]"
          },
          "metadata": {}
        }
      ],
      "source": [
        "import matplotlib.pyplot as plt\n",
        "\n",
        "# Plot label distribution for GoEmotions\n",
        "goemotions_clean[\"label\"].value_counts().plot(kind=\"bar\", figsize=(10,5), color=\"skyblue\")\n",
        "plt.title(\"GoEmotions — Author Emotion Label Distribution\")\n",
        "plt.xlabel(\"Emotion\")\n",
        "plt.ylabel(\"Count\")\n",
        "plt.xticks(rotation=45)\n",
        "plt.tight_layout()\n",
        "plt.show()"
      ]
    },
    {
      "cell_type": "code",
      "execution_count": null,
      "metadata": {
        "colab": {
          "base_uri": "https://localhost:8080/",
          "height": 507
        },
        "id": "-eIVqYmNgeNi",
        "outputId": "d3136ee1-c98d-4247-daf0-6e3e67cf9571"
      },
      "outputs": [
        {
          "output_type": "display_data",
          "data": {
            "text/plain": [
              "<Figure size 1000x500 with 1 Axes>"
            ],
            "image/png": "[encoded data removed]"
          },
          "metadata": {}
        }
      ],
      "source": [
        "# Cap for \"neutral\"\n",
        "neutral_cap = 10000\n",
        "\n",
        "# Split neutral and non-neutral\n",
        "neutral_rows = goemotions_clean[goemotions_clean[\"label\"] == \"neutral\"].sample(n=neutral_cap, random_state=42)\n",
        "non_neutral_rows = goemotions_clean[goemotions_clean[\"label\"] != \"neutral\"]\n",
        "\n",
        "# Combine and shuffle\n",
        "goemotions_balanced = pd.concat([neutral_rows, non_neutral_rows])\n",
        "goemotions_balanced = goemotions_balanced.sample(frac=1, random_state=42).reset_index(drop=True)\n",
        "\n",
        "goemotions_clean = goemotions_balanced\n",
        "\n",
        "# Plot to confirm\n",
        "goemotions_clean[\"label\"].value_counts().plot(kind=\"bar\", figsize=(10,5), color=\"steelblue\")\n",
        "plt.title(\"GoEmotions — Balanced Label Distribution\")\n",
        "plt.xlabel(\"Emotion\")\n",
        "plt.ylabel(\"Count\")\n",
        "plt.xticks(rotation=45)\n",
        "plt.tight_layout()\n",
        "plt.show()\n"
      ]
    },
    {
      "cell_type": "markdown",
      "metadata": {
        "id": "PRstPQElhViN"
      },
      "source": [
        "### Balancing the Dataset\n",
        "The \"neutral\" label was heavily overrepresented, with over 55k samples. To avoid bias in our model, we capped it at 10,000 and kept all other labels unchanged. Then we shuffled the combined data to remove any ordering.\n",
        "The updated plot shows a much more balanced distribution, which helps ensure fairer learning across all emotion categories."
      ]
    },
    {
      "cell_type": "code",
      "execution_count": null,
      "metadata": {
        "colab": {
          "base_uri": "https://localhost:8080/",
          "height": 507
        },
        "id": "BbNtcU7EfZ1J",
        "outputId": "d453cb3e-5437-4139-a31f-36a8a6a6bc6d"
      },
      "outputs": [
        {
          "output_type": "display_data",
          "data": {
            "text/plain": [
              "<Figure size 1000x500 with 1 Axes>"
            ],
            "image/png": "[encoded data removed]"
          },
          "metadata": {}
        }
      ],
      "source": [
        "# Plot label distribution for EmpatheticDialogues\n",
        "empathetic_clean[\"label\"].value_counts().plot(kind=\"bar\", figsize=(10,5), color=\"lightgreen\")\n",
        "plt.title(\"EmpatheticDialogues — Reader Emotion Label Distribution\")\n",
        "plt.xlabel(\"Emotion\")\n",
        "plt.ylabel(\"Count\")\n",
        "plt.xticks(rotation=45)\n",
        "plt.tight_layout()\n",
        "plt.show()\n"
      ]
    },
    {
      "cell_type": "code",
      "execution_count": null,
      "metadata": {
        "colab": {
          "base_uri": "https://localhost:8080/"
        },
        "id": "5A4T6_nCffES",
        "outputId": "d0d5a3b1-009b-4d18-adcd-eb3b392becc4"
      },
      "outputs": [
        {
          "output_type": "stream",
          "name": "stdout",
          "text": [
            "GoEmotions: One Example Per Emotion\n",
            "\n",
            "NEUTRAL: Oh, [NAME], don't bring THAT story up!\n",
            "GRATITUDE: Thank you so much! That’s a helpful list with a great variety!\n",
            "LOVE: I like this rule because in life there are always exceptions. The problem is when you start feeling entitled to *being* that exception.\n",
            "DISGUST: I’m always weirded out whenever I see him without a beard because in my game I got the longest beard I could\n",
            "JOY: Im glad youre going to be a perfect parent who never makes any mistakes. Make sure you write a book!\n",
            "SURPRISE: Really? I thought this joke was a bit plane\n",
            "ANGER: [NAME] is so pathetic, 40 year old man jealous of a 26 year old DJ\n",
            "SADNESS: I’m sorry for your loss bro ❤️\n",
            "PRIDE: No problem! I've been chillin in capture the flag for couple of days now and she is super strong and fun in this mode.\n",
            "FEAR: My dosage was increased 2 weeks ago and I've noticed the issues getting worse. With your comment, I'm really leaning towards them being side effects.\n"
          ]
        }
      ],
      "source": [
        "# Show one example per emotion for GoEmotions\n",
        "print(\"GoEmotions: One Example Per Emotion\\n\")\n",
        "for label in goemotions_clean[\"label\"].unique():\n",
        "    example = goemotions_clean[goemotions_clean[\"label\"] == label][\"text\"].iloc[0]\n",
        "    print(f\"{label.upper()}: {example}\")"
      ]
    },
    {
      "cell_type": "code",
      "execution_count": null,
      "metadata": {
        "colab": {
          "base_uri": "https://localhost:8080/"
        },
        "id": "L_W1ls_bfkBC",
        "outputId": "f086505b-d892-4bdd-ec5d-ecc789abfe65"
      },
      "outputs": [
        {
          "output_type": "stream",
          "name": "stdout",
          "text": [
            "\n",
            "EmpatheticDialogues: One Example Per Emotion\n",
            "\n",
            "LOVE: I remember going to see the fireworks with my best friend. It was the first time we ever spent time alone together. Although there was a lot of people_comma_ we felt like the only people in the world.\n",
            "FEAR:  it feels like hitting to blank wall when i see the darkness\n",
            "PRIDE: Hi how are you doing today\n",
            "JOY: Hi_comma_ this year_comma_ I was the first over 300 students at my enginering school\n",
            "ANGER: I lost my job last year and got really angry.\n",
            "SADNESS: During christmas a few years ago_comma_ I did not get any presents.\n",
            "GRATITUDE: Hi_comma_ I went to a park and I set on a bench. I didn't notice that my wallet felt. A man came to me from behind giving me back my wallet.\n",
            "SURPRISE: When I was working my first job_comma_ my parents picked me up in my new car_comma_ I was very surprised_comma_ i thought I was gonna have to buy my own car\n",
            "DISGUST: I hate to be tired and see a store crowded with customers and only one or two checkouts open.\n"
          ]
        }
      ],
      "source": [
        "# Show one example per emotion for EmpatheticDialogues\n",
        "print(\"\\nEmpatheticDialogues: One Example Per Emotion\\n\")\n",
        "for label in empathetic_clean[\"label\"].unique():\n",
        "    example = empathetic_clean[empathetic_clean[\"label\"] == label][\"text\"].iloc[0]\n",
        "    print(f\"{label.upper()}: {example}\")"
      ]
    },
    {
      "cell_type": "code",
      "execution_count": null,
      "metadata": {
        "colab": {
          "base_uri": "https://localhost:8080/",
          "height": 472
        },
        "id": "aFHjNFvCfuT2",
        "outputId": "8da4ede2-20f3-4673-f10d-e9f44fc7d88b"
      },
      "outputs": [
        {
          "output_type": "display_data",
          "data": {
            "text/plain": [
              "<Figure size 640x480 with 1 Axes>"
            ],
            "image/png": "[encoded data removed]"
          },
          "metadata": {}
        }
      ],
      "source": [
        "# Plot distribution of text lengths for GoEmotions\n",
        "goemotions_clean[\"length\"] = goemotions_clean[\"text\"].apply(len)\n",
        "goemotions_clean[\"length\"].plot(kind=\"hist\", bins=30, color=\"gray\", edgecolor=\"black\")\n",
        "plt.title(\"Distribution of Text Lengths in GoEmotions\")\n",
        "plt.xlabel(\"Number of Characters\")\n",
        "plt.ylabel(\"Frequency\")\n",
        "plt.show()"
      ]
    },
    {
      "cell_type": "markdown",
      "source": [
        "# Prototype Stage\n",
        "Here, we implement the core model pipeline: encoding labels, tokenizing text, creating dataset classes, loading a base transformer model, and running initial training and evaluation to test feasibility at scale.\n"
      ],
      "metadata": {
        "id": "uZyrp5TDDnys"
      }
    },
    {
      "cell_type": "code",
      "execution_count": null,
      "metadata": {
        "colab": {
          "base_uri": "https://localhost:8080/",
          "height": 338,
          "referenced_widgets": [
            "972588f0eb43408c8e9f05e053593f8f",
            "85f8211920e34998a647ebe03a22d147",
            "8d8efb41b84848939f9d1f91ec2f7c70",
            "998f7fa5a51949df88f4713ad58cc2e1",
            "275d2ee8c0e64e9ab636dc5fe14061b4",
            "ce4b46e386b745b0bdfc1130a26ac401",
            "ea15f2b98ed24fdb94a9954c4d6b4a2d",
            "39a87668d7e0487da582fdc5f2ffcfe5",
            "0eb14ce365774e70b08756a5aedd359e",
            "9c30e6c1487b4b869dd7d1d9950c5827",
            "c608da5767fa4e3e8827e0f8b2be30f3",
            "013aeb7838fb40f2bc949834b69eecec",
            "7568abbf20bf4aa3bf706b6d488878e8",
            "8fe46eabbc864a2f969f79f15dd57a35",
            "b5056939eb6a454d9b480d1e6c08dea8",
            "69f9f0ce31a94904bfaf60950f033224",
            "189d362fdbc1474e9597121832cbd64f",
            "4f546f4267e44b479dd25664a7b2748f",
            "fd772fe9eff34704bf1ea46624c0e7c0",
            "1eaf1a745ad54c2c9e69f3790bcf45a0",
            "8ed1fb1fd8a24430afc8113ee6fdbca1",
            "db2d37a124ef4f469c011f44f9ff8ec0",
            "0958413f7d0a4ed18d6edb017aae1c83",
            "ed8b259a99f348748d4a616e267f8dac",
            "4ab07b195aa440f198adcfd8692942ca",
            "9fb1aadbf5f1439ab8a95f4b63668613",
            "a9434bfba91b4738b9d2f2116a6e8564",
            "dc25095e658241978f61c24580c0ead1",
            "93f136f308d54968bc356fb2cece518d",
            "0b9a10b2d20c4579ab7e3eb3ff7905f4",
            "0603fa8a1a884c97a9c91724095a8d57",
            "88d139b8655845c2a16d9f3352278aa5",
            "242178bdd3614a248216d4c0260e182e",
            "e7f31b93e6284a5b8ca5c64f7c0e1f3a",
            "2a8bec7933bd47c6abc94e661a1da183",
            "0ab97815d7ce42649698631fe60aca3d",
            "36db076f47484339a2bdccca28c1ff8f",
            "dd298c00c2514f3d925ba8c0a4dc5369",
            "fefea3a059f54d8ea3e4d58187ab6743",
            "c07a236ac0bd4a6596554d7183789cea",
            "99f2cad11c9540e7ac72b60464a9ed2d",
            "aca31548fbb446a794fd802eb253754c",
            "e66820514a2d40e584fba191cedc3b52",
            "211297fbe9674ca49a97033341cd083b"
          ]
        },
        "id": "mQiCKwj8Hyal",
        "outputId": "c89c47ea-954e-4ef3-afd1-74222cac877d"
      },
      "outputs": [
        {
          "output_type": "stream",
          "name": "stderr",
          "text": [
            "/usr/local/lib/python3.11/dist-packages/huggingface_hub/file_download.py:943: FutureWarning: `resume_download` is deprecated and will be removed in version 1.0.0. Downloads always resume when possible. If you want to force a new download, use `force_download=True`.\n",
            "  warnings.warn(\n",
            "/usr/local/lib/python3.11/dist-packages/huggingface_hub/utils/_auth.py:94: UserWarning: \n",
            "The secret `HF_TOKEN` does not exist in your Colab secrets.\n",
            "To authenticate with the Hugging Face Hub, create a token in your settings tab (https://huggingface.co/settings/tokens), set it as secret in your Google Colab and restart your session.\n",
            "You will be able to reuse this secret in all of your notebooks.\n",
            "Please note that authentication is recommended but still optional to access public models or datasets.\n",
            "  warnings.warn(\n"
          ]
        },
        {
          "output_type": "display_data",
          "data": {
            "text/plain": [
              "tokenizer_config.json:   0%|          | 0.00/366 [00:00<?, ?B/s]"
            ],
            "application/vnd.jupyter.widget-view+json": {
              "version_major": 2,
              "version_minor": 0,
              "model_id": "972588f0eb43408c8e9f05e053593f8f"
            }
          },
          "metadata": {}
        },
        {
          "output_type": "display_data",
          "data": {
            "text/plain": [
              "vocab.txt: 0.00B [00:00, ?B/s]"
            ],
            "application/vnd.jupyter.widget-view+json": {
              "version_major": 2,
              "version_minor": 0,
              "model_id": "013aeb7838fb40f2bc949834b69eecec"
            }
          },
          "metadata": {}
        },
        {
          "output_type": "display_data",
          "data": {
            "text/plain": [
              "tokenizer.json: 0.00B [00:00, ?B/s]"
            ],
            "application/vnd.jupyter.widget-view+json": {
              "version_major": 2,
              "version_minor": 0,
              "model_id": "0958413f7d0a4ed18d6edb017aae1c83"
            }
          },
          "metadata": {}
        },
        {
          "output_type": "display_data",
          "data": {
            "text/plain": [
              "special_tokens_map.json:   0%|          | 0.00/125 [00:00<?, ?B/s]"
            ],
            "application/vnd.jupyter.widget-view+json": {
              "version_major": 2,
              "version_minor": 0,
              "model_id": "e7f31b93e6284a5b8ca5c64f7c0e1f3a"
            }
          },
          "metadata": {}
        },
        {
          "output_type": "stream",
          "name": "stdout",
          "text": [
            "Tokenization complete. Sample token IDs:\n",
            "[101, 9413, 12171, 12171, 12171, 12171, 2099, 2008, 1005, 1055]\n"
          ]
        }
      ],
      "source": [
        "# Encode labels\n",
        "from sklearn.preprocessing import LabelEncoder\n",
        "from sklearn.model_selection import train_test_split\n",
        "\n",
        "# Drop missing or non-string labels\n",
        "goemotions_clean = goemotions_clean[goemotions_clean[\"label\"].notna()]\n",
        "goemotions_clean = goemotions_clean[goemotions_clean[\"label\"].apply(lambda x: isinstance(x, str))]\n",
        "\n",
        "# Encode the cleaned labels\n",
        "label_encoder = LabelEncoder()\n",
        "goemotions_clean[\"label_encoded\"] = label_encoder.fit_transform(goemotions_clean[\"label\"])\n",
        "\n",
        "# Split into train/test sets\n",
        "g_train_texts, g_test_texts, g_train_labels, g_test_labels = train_test_split(\n",
        "    goemotions_clean[\"text\"],\n",
        "    goemotions_clean[\"label_encoded\"],\n",
        "    test_size=0.2,\n",
        "    random_state=42,\n",
        "    stratify=goemotions_clean[\"label_encoded\"]\n",
        ")\n",
        "\n",
        "# Reset index and convert labels to NumPy arrays\n",
        "g_train_labels = g_train_labels.reset_index(drop=True).to_numpy()\n",
        "g_test_labels = g_test_labels.reset_index(drop=True).to_numpy()\n",
        "\n",
        "from transformers import AutoTokenizer\n",
        "\n",
        "tokenizer = AutoTokenizer.from_pretrained(\"BAAI/bge-small-en\")\n",
        "\n",
        "# Tokenize text\n",
        "g_train_encodings = tokenizer(list(g_train_texts), truncation=True, padding=True, max_length=128)\n",
        "g_test_encodings = tokenizer(list(g_test_texts), truncation=True, padding=True, max_length=128)\n",
        "\n",
        "print(\"Tokenization complete. Sample token IDs:\")\n",
        "print(g_train_encodings[\"input_ids\"][0][:10])\n"
      ]
    },
    {
      "cell_type": "code",
      "execution_count": null,
      "metadata": {
        "id": "QW0fweM3iJVb"
      },
      "outputs": [],
      "source": [
        "import torch\n",
        "from torch.utils.data import Dataset\n",
        "\n",
        "class EmotionDataset(Dataset):\n",
        "    def __init__(self, encodings, labels):\n",
        "        self.encodings = encodings\n",
        "        self.labels = labels\n",
        "\n",
        "    def __len__(self):\n",
        "        return len(self.labels)\n",
        "\n",
        "    def __getitem__(self, idx):\n",
        "        return {\n",
        "            key: torch.tensor(val[idx]) for key, val in self.encodings.items()\n",
        "        } | {\"labels\": torch.tensor(self.labels[idx])}"
      ]
    },
    {
      "cell_type": "code",
      "execution_count": null,
      "metadata": {
        "id": "Zp9vU4jGiNTK"
      },
      "outputs": [],
      "source": [
        "train_dataset = EmotionDataset(g_train_encodings, g_train_labels)\n",
        "test_dataset = EmotionDataset(g_test_encodings, g_test_labels)"
      ]
    },
    {
      "cell_type": "code",
      "execution_count": null,
      "metadata": {
        "colab": {
          "base_uri": "https://localhost:8080/",
          "height": 170,
          "referenced_widgets": [
            "265d0c863ed14c00896c6765c0c3e8f9",
            "4c1ad3a70a0149de86202eaed6602448",
            "d3931af30b984d98ba843e62e84dc56a",
            "c2b290e3acd64d048d4e32f16a63da02",
            "71ed1a2ce4c04be689c5940d196ba7c1",
            "46a1c9bdb74a4ef1bcd191f801e136b3",
            "2461d356088d4f78b38f31da6d4cbec2",
            "04551d809f714fdd85eb6d6b29bf69e8",
            "720c73a4b02d4ae6b2a1eca1b21646bf",
            "a7fefd36c51b4c1586cb8bcfff1a8150",
            "01ea22f976184dd580041290552e42a7",
            "18bf0dc7e8ea4d70837feda13317c176",
            "57fab65b0df248f9813a7cd99e9cdc36",
            "65d14c8f84f64f9496e81a7b70455b30",
            "702dcbefd168499f9d7892eedb55ba4b",
            "3b1bd4cb3b7f4a17a87b861b0fd3b656",
            "6d0fc48544ca46bfa839d76649c6397f",
            "d96dba3c026440dab8420b24c89a19cd",
            "ddcb399fbe2e407dbbc587f9ca12ca64",
            "d504740371c34aea8c95d00d87e625f4",
            "919b2d11c6d2402b9b976e0801affc2b",
            "f0f787488d51488189090ee090275be8"
          ]
        },
        "collapsed": true,
        "id": "EPiKQdDaiZRu",
        "outputId": "8f5780ab-204f-4d12-c79b-cb5cca46393e"
      },
      "outputs": [
        {
          "output_type": "display_data",
          "data": {
            "text/plain": [
              "config.json:   0%|          | 0.00/684 [00:00<?, ?B/s]"
            ],
            "application/vnd.jupyter.widget-view+json": {
              "version_major": 2,
              "version_minor": 0,
              "model_id": "265d0c863ed14c00896c6765c0c3e8f9"
            }
          },
          "metadata": {}
        },
        {
          "output_type": "stream",
          "name": "stderr",
          "text": [
            "/usr/local/lib/python3.11/dist-packages/huggingface_hub/file_download.py:943: FutureWarning: `resume_download` is deprecated and will be removed in version 1.0.0. Downloads always resume when possible. If you want to force a new download, use `force_download=True`.\n",
            "  warnings.warn(\n"
          ]
        },
        {
          "output_type": "display_data",
          "data": {
            "text/plain": [
              "model.safetensors:   0%|          | 0.00/133M [00:00<?, ?B/s]"
            ],
            "application/vnd.jupyter.widget-view+json": {
              "version_major": 2,
              "version_minor": 0,
              "model_id": "18bf0dc7e8ea4d70837feda13317c176"
            }
          },
          "metadata": {}
        },
        {
          "output_type": "stream",
          "name": "stderr",
          "text": [
            "Some weights of BertForSequenceClassification were not initialized from the model checkpoint at BAAI/bge-small-en and are newly initialized: ['classifier.bias', 'classifier.weight']\n",
            "You should probably TRAIN this model on a down-stream task to be able to use it for predictions and inference.\n"
          ]
        }
      ],
      "source": [
        "from transformers import AutoTokenizer, AutoModelForSequenceClassification\n",
        "\n",
        "# Load smaller, lighter model and tokenizer\n",
        "tokenizer = AutoTokenizer.from_pretrained(\"BAAI/bge-small-en\")\n",
        "num_labels = len(label_encoder.classes_)\n",
        "model = AutoModelForSequenceClassification.from_pretrained(\"BAAI/bge-small-en\", num_labels=num_labels)"
      ]
    },
    {
      "cell_type": "code",
      "execution_count": null,
      "metadata": {
        "colab": {
          "base_uri": "https://localhost:8080/"
        },
        "id": "-HAgFxBLmH5c",
        "outputId": "edbb1501-404a-48c9-a4e6-c0c8d2444174"
      },
      "outputs": [
        {
          "output_type": "stream",
          "name": "stderr",
          "text": [
            "Using the `WANDB_DISABLED` environment variable is deprecated and will be removed in v5. Use the --report_to flag to control the integrations used for logging result (for instance --report_to none).\n"
          ]
        }
      ],
      "source": [
        "from transformers import TrainingArguments\n",
        "\n",
        "training_args = TrainingArguments(\n",
        "    output_dir=\"./results\",\n",
        "    num_train_epochs=1,\n",
        "    per_device_train_batch_size=2,       # ↓ lowered to reduce memory usage\n",
        "    per_device_eval_batch_size=4,        # ↓ lowered\n",
        "    evaluation_strategy=\"epoch\",\n",
        "    save_strategy=\"epoch\",\n",
        "    logging_dir=\"./logs\",\n",
        "    logging_steps=10,\n",
        "    load_best_model_at_end=False,        # ↓ disables extra memory usage\n",
        "    gradient_accumulation_steps=4        # ↑ simulate bigger batch size\n",
        ")\n"
      ]
    },
    {
      "cell_type": "code",
      "execution_count": null,
      "metadata": {
        "id": "p39UtarItmQH"
      },
      "outputs": [],
      "source": [
        "from transformers import Trainer\n",
        "\n",
        "trainer = Trainer(\n",
        "    model=model,\n",
        "    args=training_args,\n",
        "    train_dataset=train_dataset,\n",
        "    eval_dataset=test_dataset\n",
        ")"
      ]
    },
    {
      "cell_type": "code",
      "execution_count": null,
      "metadata": {
        "colab": {
          "base_uri": "https://localhost:8080/",
          "height": 159
        },
        "id": "KoEc5UuNFQmu",
        "outputId": "a161b85e-318c-45ed-ac3c-c59ccbce71ab"
      },
      "outputs": [
        {
          "output_type": "display_data",
          "data": {
            "text/plain": [
              "<IPython.core.display.HTML object>"
            ],
            "text/html": [
              "\n",
              "    <div>\n",
              "      \n",
              "      <progress value='6448' max='6448' style='width:300px; height:20px; vertical-align: middle;'></progress>\n",
              "      [6448/6448 5:05:08, Epoch 1/1]\n",
              "    </div>\n",
              "    <table border=\"1\" class=\"dataframe\">\n",
              "  <thead>\n",
              " <tr style=\"text-align: left;\">\n",
              "      <th>Epoch</th>\n",
              "      <th>Training Loss</th>\n",
              "      <th>Validation Loss</th>\n",
              "    </tr>\n",
              "  </thead>\n",
              "  <tbody>\n",
              "    <tr>\n",
              "      <td>1</td>\n",
              "      <td>1.017300</td>\n",
              "      <td>1.021110</td>\n",
              "    </tr>\n",
              "  </tbody>\n",
              "</table><p>"
            ]
          },
          "metadata": {}
        },
        {
          "output_type": "execute_result",
          "data": {
            "text/plain": [
              "TrainOutput(global_step=6448, training_loss=1.0616809030620395, metrics={'train_runtime': 18314.0795, 'train_samples_per_second': 2.817, 'train_steps_per_second': 0.352, 'total_flos': 544697234497416.0, 'train_loss': 1.0616809030620395, 'epoch': 1.0})"
            ]
          },
          "metadata": {},
          "execution_count": 26
        }
      ],
      "source": [
        "trainer.train()"
      ]
    },
    {
      "cell_type": "code",
      "source": [
        "results = trainer.evaluate()\n",
        "print(\"Evaluation Results:\")\n",
        "print(results)\n"
      ],
      "metadata": {
        "colab": {
          "base_uri": "https://localhost:8080/",
          "height": 92
        },
        "id": "kgBeERv5Wkmw",
        "outputId": "1e9b770a-e9f0-42e6-9be1-70ffa9b68bb5"
      },
      "execution_count": null,
      "outputs": [
        {
          "output_type": "display_data",
          "data": {
            "text/plain": [
              "<IPython.core.display.HTML object>"
            ],
            "text/html": [
              "\n",
              "    <div>\n",
              "      \n",
              "      <progress value='3224' max='3224' style='width:300px; height:20px; vertical-align: middle;'></progress>\n",
              "      [3224/3224 26:09]\n",
              "    </div>\n",
              "    "
            ]
          },
          "metadata": {}
        },
        {
          "output_type": "stream",
          "name": "stdout",
          "text": [
            "Evaluation Results:\n",
            "{'eval_loss': 1.021109938621521, 'eval_runtime': 1570.7818, 'eval_samples_per_second': 8.21, 'eval_steps_per_second': 2.052, 'epoch': 1.0}\n"
          ]
        }
      ]
    },
    {
      "cell_type": "code",
      "source": [
        "model.save_pretrained(\"echo-room-model\")\n",
        "tokenizer.save_pretrained(\"echo-room-model\")"
      ],
      "metadata": {
        "colab": {
          "base_uri": "https://localhost:8080/"
        },
        "id": "9OfyVSFseb6z",
        "outputId": "dac443fe-8a08-4360-fa80-5178ab37286b"
      },
      "execution_count": null,
      "outputs": [
        {
          "output_type": "execute_result",
          "data": {
            "text/plain": [
              "('echo-room-model/tokenizer_config.json',\n",
              " 'echo-room-model/special_tokens_map.json',\n",
              " 'echo-room-model/vocab.txt',\n",
              " 'echo-room-model/added_tokens.json',\n",
              " 'echo-room-model/tokenizer.json')"
            ]
          },
          "metadata": {},
          "execution_count": 28
        }
      ]
    },
    {
      "cell_type": "code",
      "source": [
        "!zip -r echo-room-model.zip echo-room-model"
      ],
      "metadata": {
        "colab": {
          "base_uri": "https://localhost:8080/"
        },
        "id": "V7j4FldyehDz",
        "outputId": "43bb39b8-7b48-4902-fc20-0f63b949c602"
      },
      "execution_count": null,
      "outputs": [
        {
          "output_type": "stream",
          "name": "stdout",
          "text": [
            "  adding: echo-room-model/ (stored 0%)\n",
            "  adding: echo-room-model/special_tokens_map.json (deflated 80%)\n",
            "  adding: echo-room-model/tokenizer_config.json (deflated 75%)\n",
            "  adding: echo-room-model/vocab.txt (deflated 53%)\n",
            "  adding: echo-room-model/model.safetensors (deflated 12%)\n",
            "  adding: echo-room-model/config.json (deflated 57%)\n",
            "  adding: echo-room-model/tokenizer.json (deflated 71%)\n"
          ]
        }
      ]
    },
    {
      "cell_type": "code",
      "source": [
        "from transformers import TextClassificationPipeline\n",
        "\n",
        "pipeline = TextClassificationPipeline(\n",
        "    model=model,\n",
        "    tokenizer=tokenizer,\n",
        "    return_all_scores=True\n",
        ")\n",
        "\n",
        "texts = [\n",
        "    \"I'm so proud of what I accomplished today.\",\n",
        "    \"I miss my old friends and feel really down lately.\",\n",
        "    \"Wow, that was unexpected!\",\n",
        "    \"I feel loved and grateful.\",\n",
        "    \"Why would they say that to me? I'm furious!\"\n",
        "]\n",
        "\n",
        "for text in texts:\n",
        "    result = pipeline(text)\n",
        "    print(f\"\\nInput: {text}\")\n",
        "    print(\"Predicted scores:\", result[0])\n"
      ],
      "metadata": {
        "colab": {
          "base_uri": "https://localhost:8080/"
        },
        "id": "-rGcszmGek8Q",
        "outputId": "bb737f29-dd06-4bc3-f3b7-add29ba109a4"
      },
      "execution_count": null,
      "outputs": [
        {
          "output_type": "stream",
          "name": "stdout",
          "text": [
            "\n",
            "Input: I'm so proud of what I accomplished today.\n",
            "Predicted scores: [{'label': 'LABEL_0', 'score': 0.009831232018768787}, {'label': 'LABEL_1', 'score': 0.00960888247936964}, {'label': 'LABEL_2', 'score': 0.03993530198931694}, {'label': 'LABEL_3', 'score': 0.07625104486942291}, {'label': 'LABEL_4', 'score': 0.07872162759304047}, {'label': 'LABEL_5', 'score': 0.018113737925887108}, {'label': 'LABEL_6', 'score': 0.020076269283890724}, {'label': 'LABEL_7', 'score': 0.709592878818512}, {'label': 'LABEL_8', 'score': 0.016856344416737556}, {'label': 'LABEL_9', 'score': 0.02101270668208599}]\n",
            "\n",
            "Input: I miss my old friends and feel really down lately.\n",
            "Predicted scores: [{'label': 'LABEL_0', 'score': 0.009402856230735779}, {'label': 'LABEL_1', 'score': 0.008735032752156258}, {'label': 'LABEL_2', 'score': 0.006069832015782595}, {'label': 'LABEL_3', 'score': 0.006624319590628147}, {'label': 'LABEL_4', 'score': 0.01048933994024992}, {'label': 'LABEL_5', 'score': 0.009191012009978294}, {'label': 'LABEL_6', 'score': 0.02623559534549713}, {'label': 'LABEL_7', 'score': 0.002927086316049099}, {'label': 'LABEL_8', 'score': 0.915675163269043}, {'label': 'LABEL_9', 'score': 0.004649715963751078}]\n",
            "\n",
            "Input: Wow, that was unexpected!\n",
            "Predicted scores: [{'label': 'LABEL_0', 'score': 0.005839341785758734}, {'label': 'LABEL_1', 'score': 0.002886660397052765}, {'label': 'LABEL_2', 'score': 0.006095740012824535}, {'label': 'LABEL_3', 'score': 0.009731901809573174}, {'label': 'LABEL_4', 'score': 0.03633887693285942}, {'label': 'LABEL_5', 'score': 0.007359021808952093}, {'label': 'LABEL_6', 'score': 0.022709868848323822}, {'label': 'LABEL_7', 'score': 0.004360712133347988}, {'label': 'LABEL_8', 'score': 0.006591289769858122}, {'label': 'LABEL_9', 'score': 0.8980865478515625}]\n",
            "\n",
            "Input: I feel loved and grateful.\n",
            "Predicted scores: [{'label': 'LABEL_0', 'score': 0.0017640850273892283}, {'label': 'LABEL_1', 'score': 0.0012884603347629309}, {'label': 'LABEL_2', 'score': 0.0008199169533327222}, {'label': 'LABEL_3', 'score': 0.17727555334568024}, {'label': 'LABEL_4', 'score': 0.20346689224243164}, {'label': 'LABEL_5', 'score': 0.5865598917007446}, {'label': 'LABEL_6', 'score': 0.0062299673445522785}, {'label': 'LABEL_7', 'score': 0.013318377546966076}, {'label': 'LABEL_8', 'score': 0.005461395718157291}, {'label': 'LABEL_9', 'score': 0.0038154947105795145}]\n",
            "\n",
            "Input: Why would they say that to me? I'm furious!\n",
            "Predicted scores: [{'label': 'LABEL_0', 'score': 0.8717595338821411}, {'label': 'LABEL_1', 'score': 0.041863854974508286}, {'label': 'LABEL_2', 'score': 0.005545588675886393}, {'label': 'LABEL_3', 'score': 0.0026045392733067274}, {'label': 'LABEL_4', 'score': 0.006837290246039629}, {'label': 'LABEL_5', 'score': 0.004289223812520504}, {'label': 'LABEL_6', 'score': 0.02512504905462265}, {'label': 'LABEL_7', 'score': 0.0039702123031020164}, {'label': 'LABEL_8', 'score': 0.017426541075110435}, {'label': 'LABEL_9', 'score': 0.020578106865286827}]\n"
          ]
        },
        {
          "output_type": "stream",
          "name": "stderr",
          "text": [
            "/usr/local/lib/python3.11/dist-packages/transformers/pipelines/text_classification.py:105: UserWarning: `return_all_scores` is now deprecated,  if want a similar functionality use `top_k=None` instead of `return_all_scores=True` or `top_k=1` instead of `return_all_scores=False`.\n",
            "  warnings.warn(\n"
          ]
        }
      ]
    },
    {
      "cell_type": "code",
      "source": [
        "from sklearn.metrics import accuracy_score, precision_recall_fscore_support\n",
        "\n",
        "# Get predictions and true labels\n",
        "predictions = trainer.predict(test_dataset)\n",
        "preds = predictions.predictions.argmax(axis=-1)\n",
        "labels = predictions.label_ids\n",
        "\n",
        "# Calculate metrics\n",
        "accuracy = accuracy_score(labels, preds)\n",
        "precision, recall, f1, _ = precision_recall_fscore_support(labels, preds, average='weighted')\n",
        "\n",
        "# Print results\n",
        "print(f\"Accuracy:  {accuracy:.4f}\")\n",
        "print(f\"Precision: {precision:.4f}\")\n",
        "print(f\"Recall:    {recall:.4f}\")\n",
        "print(f\"F1 Score:  {f1:.4f}\")\n"
      ],
      "metadata": {
        "colab": {
          "base_uri": "https://localhost:8080/",
          "height": 86
        },
        "id": "2EHeCwwcfFGE",
        "outputId": "bd3b77c6-3aa1-4503-f976-91bb33548d01"
      },
      "execution_count": null,
      "outputs": [
        {
          "output_type": "display_data",
          "data": {
            "text/plain": [
              "<IPython.core.display.HTML object>"
            ],
            "text/html": []
          },
          "metadata": {}
        },
        {
          "output_type": "stream",
          "name": "stdout",
          "text": [
            "Accuracy:  0.6675\n",
            "Precision: 0.6636\n",
            "Recall:    0.6675\n",
            "F1 Score:  0.6633\n"
          ]
        }
      ]
    },
    {
      "cell_type": "code",
      "source": [
        "import matplotlib.pyplot as plt\n",
        "import numpy as np\n",
        "\n",
        "# Count label distribution\n",
        "classes, counts = np.unique(labels, return_counts=True)\n",
        "\n",
        "plt.figure(figsize=(8, 5))\n",
        "plt.bar(classes, counts, tick_label=[f\"Label {i}\" for i in classes])\n",
        "plt.title(\"True Label Distribution in Test Set\")\n",
        "plt.xlabel(\"Classes\")\n",
        "plt.ylabel(\"Count\")\n",
        "plt.grid(True)\n",
        "plt.show()"
      ],
      "metadata": {
        "colab": {
          "base_uri": "https://localhost:8080/",
          "height": 487
        },
        "id": "fkhBKFWLfLVU",
        "outputId": "65064f6b-94ce-4133-b5f6-314a8fe5fd9e"
      },
      "execution_count": null,
      "outputs": [
        {
          "output_type": "display_data",
          "data": {
            "text/plain": [
              "<Figure size 800x500 with 1 Axes>"
            ],
            "image/png": "[encoded data removed]"
          },
          "metadata": {}
        }
      ]
    },
    {
      "cell_type": "code",
      "source": [
        "from sklearn.metrics import confusion_matrix, ConfusionMatrixDisplay\n",
        "\n",
        "cm = confusion_matrix(labels, preds)\n",
        "disp = ConfusionMatrixDisplay(confusion_matrix=cm, display_labels=[f\"Label {i}\" for i in classes])\n",
        "fig, ax = plt.subplots(figsize=(8, 6))\n",
        "disp.plot(ax=ax, cmap='Blues')\n",
        "plt.title(\"Confusion Matrix\")\n",
        "plt.grid(False)\n",
        "plt.show()"
      ],
      "metadata": {
        "colab": {
          "base_uri": "https://localhost:8080/",
          "height": 564
        },
        "id": "Nt-k9P-cp6FY",
        "outputId": "6a185f17-f1e9-4dc2-b594-9a9b5760c346"
      },
      "execution_count": null,
      "outputs": [
        {
          "output_type": "display_data",
          "data": {
            "text/plain": [
              "<Figure size 800x600 with 2 Axes>"
            ],
            "image/png": "[encoded data removed]"
          },
          "metadata": {}
        }
      ]
    },
    {
      "cell_type": "code",
      "source": [
        "from sklearn.metrics import classification_report\n",
        "\n",
        "report = classification_report(labels, preds, target_names=[f\"Label {i}\" for i in classes])\n",
        "print(\"Classification Report:\\n\")\n",
        "print(report)"
      ],
      "metadata": {
        "colab": {
          "base_uri": "https://localhost:8080/"
        },
        "id": "k0ES9Uo_qHhE",
        "outputId": "4eb8ab02-7f6c-4156-d87f-85037050fe0e"
      },
      "execution_count": null,
      "outputs": [
        {
          "output_type": "stream",
          "name": "stdout",
          "text": [
            "Classification Report:\n",
            "\n",
            "              precision    recall  f1-score   support\n",
            "\n",
            "     Label 0       0.59      0.66      0.63      1612\n",
            "     Label 1       0.52      0.44      0.48       928\n",
            "     Label 2       0.62      0.62      0.62       592\n",
            "     Label 3       0.86      0.85      0.85      2115\n",
            "     Label 4       0.66      0.61      0.63      1597\n",
            "     Label 5       0.75      0.87      0.81      1491\n",
            "     Label 6       0.56      0.56      0.56      2000\n",
            "     Label 7       0.46      0.17      0.25       210\n",
            "     Label 8       0.66      0.67      0.67      1310\n",
            "     Label 9       0.66      0.65      0.65      1041\n",
            "\n",
            "    accuracy                           0.67     12896\n",
            "   macro avg       0.63      0.61      0.61     12896\n",
            "weighted avg       0.66      0.67      0.66     12896\n",
            "\n"
          ]
        }
      ]
    },
    {
      "cell_type": "code",
      "source": [
        "pred_classes, pred_counts = np.unique(preds, return_counts=True)\n",
        "plt.figure(figsize=(8, 5))\n",
        "plt.bar(pred_classes, pred_counts, tick_label=[f\"Label {i}\" for i in pred_classes])\n",
        "plt.title(\"Predicted Label Distribution\")\n",
        "plt.xlabel(\"Classes\")\n",
        "plt.ylabel(\"Count\")\n",
        "plt.grid(True)\n",
        "plt.show()"
      ],
      "metadata": {
        "colab": {
          "base_uri": "https://localhost:8080/",
          "height": 487
        },
        "id": "PqiCCGHmqKaj",
        "outputId": "f48d41bd-5679-461f-c75b-377171fd51ca"
      },
      "execution_count": null,
      "outputs": [
        {
          "output_type": "display_data",
          "data": {
            "text/plain": [
              "<Figure size 800x500 with 1 Axes>"
            ],
            "image/png": "[encoded data removed]"
          },
          "metadata": {}
        }
      ]
    },
    {
      "cell_type": "code",
      "source": [
        "model.save_pretrained(\"./final_model\")\n",
        "tokenizer.save_pretrained(\"./final_model\")"
      ],
      "metadata": {
        "colab": {
          "base_uri": "https://localhost:8080/"
        },
        "id": "txRxKa-_qRTL",
        "outputId": "083f146f-d942-4eb1-d721-1126d0576992"
      },
      "execution_count": null,
      "outputs": [
        {
          "output_type": "execute_result",
          "data": {
            "text/plain": [
              "('./final_model/tokenizer_config.json',\n",
              " './final_model/special_tokens_map.json',\n",
              " './final_model/vocab.txt',\n",
              " './final_model/added_tokens.json',\n",
              " './final_model/tokenizer.json')"
            ]
          },
          "metadata": {},
          "execution_count": 36
        }
      ]
    },
    {
      "cell_type": "code",
      "source": [
        "import matplotlib.pyplot as plt\n",
        "\n",
        "# Example class names (replace these with the correct ones for your dataset!)\n",
        "class_labels = [\n",
        "    \"World\", \"Sports\", \"Business\", \"Science & Tech\",\n",
        "    \"Health\", \"Education\", \"Entertainment\", \"Politics\",\n",
        "    \"Travel\", \"Other\"\n",
        "]\n",
        "\n",
        "plt.figure(figsize=(10, 5))\n",
        "plt.bar(range(len(class_labels)), [1]*len(class_labels), tick_label=class_labels, color='skyblue')\n",
        "plt.title(\"Class Label Interpretation\")\n",
        "plt.xticks(rotation=45, ha='right')\n",
        "plt.ylabel(\"Indicator (1 = Present)\")\n",
        "plt.tight_layout()\n",
        "plt.show()\n"
      ],
      "metadata": {
        "colab": {
          "base_uri": "https://localhost:8080/",
          "height": 507
        },
        "id": "2nyT7qfIqg9E",
        "outputId": "b1a85c25-0f5e-4c4a-c277-99bcb21b86d8"
      },
      "execution_count": null,
      "outputs": [
        {
          "output_type": "display_data",
          "data": {
            "text/plain": [
              "<Figure size 1000x500 with 1 Axes>"
            ],
            "image/png": "[encoded data removed]"
          },
          "metadata": {}
        }
      ]
    },
    {
      "cell_type": "code",
      "source": [
        "def classify_text(text):\n",
        "    output = pipeline(text)[0]\n",
        "    for entry in output:\n",
        "        print(f\"{entry['label']} → {entry['score']:.4f}\")\n"
      ],
      "metadata": {
        "id": "5vFEnJeBqsoi"
      },
      "execution_count": null,
      "outputs": []
    },
    {
      "cell_type": "markdown",
      "source": [
        "## Project Summary\n",
        "\n",
        "This run trained a 10-class emotion classifier on the GoEmotions dataset, achieving:\n",
        "- Accuracy: 66.75%\n",
        "- Precision: 66.36%\n",
        "- Recall: 66.75%\n",
        "- F1: 66.33%\n",
        "\n",
        "The notebook also prepares the EmpatheticDialogues dataset for the reader-perspective model by aligning labels to the same 10 emotions.  \n",
        "\n",
        "This provides a complete pipeline for the author perspective and lays the groundwork for future reader-perspective modeling and divergence analysis.\n"
      ],
      "metadata": {
        "id": "RE_JquF1DOFW"
      }
    }
  ],
  "metadata": {
    "colab": {
      "provenance": []
    },
    "kernelspec": {
      "display_name": "Python 3",
      "name": "python3"
    },
    "language_info": {
      "name": "python"
    },
    "widgets": {
      "application/vnd.jupyter.widget-state+json": {
        "972588f0eb43408c8e9f05e053593f8f": {
          "model_module": "@jupyter-widgets/controls",
          "model_name": "HBoxModel",
          "model_module_version": "1.5.0",
          "state": {
            "_dom_classes": [],
            "_model_module": "@jupyter-widgets/controls",
            "_model_module_version": "1.5.0",
            "_model_name": "HBoxModel",
            "_view_count": null,
            "_view_module": "@jupyter-widgets/controls",
            "_view_module_version": "1.5.0",
            "_view_name": "HBoxView",
            "box_style": "",
            "children": [
              "IPY_MODEL_85f8211920e34998a647ebe03a22d147",
              "IPY_MODEL_8d8efb41b84848939f9d1f91ec2f7c70",
              "IPY_MODEL_998f7fa5a51949df88f4713ad58cc2e1"
            ],
            "layout": "IPY_MODEL_275d2ee8c0e64e9ab636dc5fe14061b4"
          }
        },
        "85f8211920e34998a647ebe03a22d147": {
          "model_module": "@jupyter-widgets/controls",
          "model_name": "HTMLModel",
          "model_module_version": "1.5.0",
          "state": {
            "_dom_classes": [],
            "_model_module": "@jupyter-widgets/controls",
            "_model_module_version": "1.5.0",
            "_model_name": "HTMLModel",
            "_view_count": null,
            "_view_module": "@jupyter-widgets/controls",
            "_view_module_version": "1.5.0",
            "_view_name": "HTMLView",
            "description": "",
            "description_tooltip": null,
            "layout": "IPY_MODEL_ce4b46e386b745b0bdfc1130a26ac401",
            "placeholder": "​",
            "style": "IPY_MODEL_ea15f2b98ed24fdb94a9954c4d6b4a2d",
            "value": "tokenizer_config.json: 100%"
          }
        },
        "8d8efb41b84848939f9d1f91ec2f7c70": {
          "model_module": "@jupyter-widgets/controls",
          "model_name": "FloatProgressModel",
          "model_module_version": "1.5.0",
          "state": {
            "_dom_classes": [],
            "_model_module": "@jupyter-widgets/controls",
            "_model_module_version": "1.5.0",
            "_model_name": "FloatProgressModel",
            "_view_count": null,
            "_view_module": "@jupyter-widgets/controls",
            "_view_module_version": "1.5.0",
            "_view_name": "ProgressView",
            "bar_style": "success",
            "description": "",
            "description_tooltip": null,
            "layout": "IPY_MODEL_39a87668d7e0487da582fdc5f2ffcfe5",
            "max": 366,
            "min": 0,
            "orientation": "horizontal",
            "style": "IPY_MODEL_0eb14ce365774e70b08756a5aedd359e",
            "value": 366
          }
        },
        "998f7fa5a51949df88f4713ad58cc2e1": {
          "model_module": "@jupyter-widgets/controls",
          "model_name": "HTMLModel",
          "model_module_version": "1.5.0",
          "state": {
            "_dom_classes": [],
            "_model_module": "@jupyter-widgets/controls",
            "_model_module_version": "1.5.0",
            "_model_name": "HTMLModel",
            "_view_count": null,
            "_view_module": "@jupyter-widgets/controls",
            "_view_module_version": "1.5.0",
            "_view_name": "HTMLView",
            "description": "",
            "description_tooltip": null,
            "layout": "IPY_MODEL_9c30e6c1487b4b869dd7d1d9950c5827",
            "placeholder": "​",
            "style": "IPY_MODEL_c608da5767fa4e3e8827e0f8b2be30f3",
            "value": " 366/366 [00:00&lt;00:00, 8.49kB/s]"
          }
        },
        "275d2ee8c0e64e9ab636dc5fe14061b4": {
          "model_module": "@jupyter-widgets/base",
          "model_name": "LayoutModel",
          "model_module_version": "1.2.0",
          "state": {
            "_model_module": "@jupyter-widgets/base",
            "_model_module_version": "1.2.0",
            "_model_name": "LayoutModel",
            "_view_count": null,
            "_view_module": "@jupyter-widgets/base",
            "_view_module_version": "1.2.0",
            "_view_name": "LayoutView",
            "align_content": null,
            "align_items": null,
            "align_self": null,
            "border": null,
            "bottom": null,
            "display": null,
            "flex": null,
            "flex_flow": null,
            "grid_area": null,
            "grid_auto_columns": null,
            "grid_auto_flow": null,
            "grid_auto_rows": null,
            "grid_column": null,
            "grid_gap": null,
            "grid_row": null,
            "grid_template_areas": null,
            "grid_template_columns": null,
            "grid_template_rows": null,
            "height": null,
            "justify_content": null,
            "justify_items": null,
            "left": null,
            "margin": null,
            "max_height": null,
            "max_width": null,
            "min_height": null,
            "min_width": null,
            "object_fit": null,
            "object_position": null,
            "order": null,
            "overflow": null,
            "overflow_x": null,
            "overflow_y": null,
            "padding": null,
            "right": null,
            "top": null,
            "visibility": null,
            "width": null
          }
        },
        "ce4b46e386b745b0bdfc1130a26ac401": {
          "model_module": "@jupyter-widgets/base",
          "model_name": "LayoutModel",
          "model_module_version": "1.2.0",
          "state": {
            "_model_module": "@jupyter-widgets/base",
            "_model_module_version": "1.2.0",
            "_model_name": "LayoutModel",
            "_view_count": null,
            "_view_module": "@jupyter-widgets/base",
            "_view_module_version": "1.2.0",
            "_view_name": "LayoutView",
            "align_content": null,
            "align_items": null,
            "align_self": null,
            "border": null,
            "bottom": null,
            "display": null,
            "flex": null,
            "flex_flow": null,
            "grid_area": null,
            "grid_auto_columns": null,
            "grid_auto_flow": null,
            "grid_auto_rows": null,
            "grid_column": null,
            "grid_gap": null,
            "grid_row": null,
            "grid_template_areas": null,
            "grid_template_columns": null,
            "grid_template_rows": null,
            "height": null,
            "justify_content": null,
            "justify_items": null,
            "left": null,
            "margin": null,
            "max_height": null,
            "max_width": null,
            "min_height": null,
            "min_width": null,
            "object_fit": null,
            "object_position": null,
            "order": null,
            "overflow": null,
            "overflow_x": null,
            "overflow_y": null,
            "padding": null,
            "right": null,
            "top": null,
            "visibility": null,
            "width": null
          }
        },
        "ea15f2b98ed24fdb94a9954c4d6b4a2d": {
          "model_module": "@jupyter-widgets/controls",
          "model_name": "DescriptionStyleModel",
          "model_module_version": "1.5.0",
          "state": {
            "_model_module": "@jupyter-widgets/controls",
            "_model_module_version": "1.5.0",
            "_model_name": "DescriptionStyleModel",
            "_view_count": null,
            "_view_module": "@jupyter-widgets/base",
            "_view_module_version": "1.2.0",
            "_view_name": "StyleView",
            "description_width": ""
          }
        },
        "39a87668d7e0487da582fdc5f2ffcfe5": {
          "model_module": "@jupyter-widgets/base",
          "model_name": "LayoutModel",
          "model_module_version": "1.2.0",
          "state": {
            "_model_module": "@jupyter-widgets/base",
            "_model_module_version": "1.2.0",
            "_model_name": "LayoutModel",
            "_view_count": null,
            "_view_module": "@jupyter-widgets/base",
            "_view_module_version": "1.2.0",
            "_view_name": "LayoutView",
            "align_content": null,
            "align_items": null,
            "align_self": null,
            "border": null,
            "bottom": null,
            "display": null,
            "flex": null,
            "flex_flow": null,
            "grid_area": null,
            "grid_auto_columns": null,
            "grid_auto_flow": null,
            "grid_auto_rows": null,
            "grid_column": null,
            "grid_gap": null,
            "grid_row": null,
            "grid_template_areas": null,
            "grid_template_columns": null,
            "grid_template_rows": null,
            "height": null,
            "justify_content": null,
            "justify_items": null,
            "left": null,
            "margin": null,
            "max_height": null,
            "max_width": null,
            "min_height": null,
            "min_width": null,
            "object_fit": null,
            "object_position": null,
            "order": null,
            "overflow": null,
            "overflow_x": null,
            "overflow_y": null,
            "padding": null,
            "right": null,
            "top": null,
            "visibility": null,
            "width": null
          }
        },
        "0eb14ce365774e70b08756a5aedd359e": {
          "model_module": "@jupyter-widgets/controls",
          "model_name": "ProgressStyleModel",
          "model_module_version": "1.5.0",
          "state": {
            "_model_module": "@jupyter-widgets/controls",
            "_model_module_version": "1.5.0",
            "_model_name": "ProgressStyleModel",
            "_view_count": null,
            "_view_module": "@jupyter-widgets/base",
            "_view_module_version": "1.2.0",
            "_view_name": "StyleView",
            "bar_color": null,
            "description_width": ""
          }
        },
        "9c30e6c1487b4b869dd7d1d9950c5827": {
          "model_module": "@jupyter-widgets/base",
          "model_name": "LayoutModel",
          "model_module_version": "1.2.0",
          "state": {
            "_model_module": "@jupyter-widgets/base",
            "_model_module_version": "1.2.0",
            "_model_name": "LayoutModel",
            "_view_count": null,
            "_view_module": "@jupyter-widgets/base",
            "_view_module_version": "1.2.0",
            "_view_name": "LayoutView",
            "align_content": null,
            "align_items": null,
            "align_self": null,
            "border": null,
            "bottom": null,
            "display": null,
            "flex": null,
            "flex_flow": null,
            "grid_area": null,
            "grid_auto_columns": null,
            "grid_auto_flow": null,
            "grid_auto_rows": null,
            "grid_column": null,
            "grid_gap": null,
            "grid_row": null,
            "grid_template_areas": null,
            "grid_template_columns": null,
            "grid_template_rows": null,
            "height": null,
            "justify_content": null,
            "justify_items": null,
            "left": null,
            "margin": null,
            "max_height": null,
            "max_width": null,
            "min_height": null,
            "min_width": null,
            "object_fit": null,
            "object_position": null,
            "order": null,
            "overflow": null,
            "overflow_x": null,
            "overflow_y": null,
            "padding": null,
            "right": null,
            "top": null,
            "visibility": null,
            "width": null
          }
        },
        "c608da5767fa4e3e8827e0f8b2be30f3": {
          "model_module": "@jupyter-widgets/controls",
          "model_name": "DescriptionStyleModel",
          "model_module_version": "1.5.0",
          "state": {
            "_model_module": "@jupyter-widgets/controls",
            "_model_module_version": "1.5.0",
            "_model_name": "DescriptionStyleModel",
            "_view_count": null,
            "_view_module": "@jupyter-widgets/base",
            "_view_module_version": "1.2.0",
            "_view_name": "StyleView",
            "description_width": ""
          }
        },
        "013aeb7838fb40f2bc949834b69eecec": {
          "model_module": "@jupyter-widgets/controls",
          "model_name": "HBoxModel",
          "model_module_version": "1.5.0",
          "state": {
            "_dom_classes": [],
            "_model_module": "@jupyter-widgets/controls",
            "_model_module_version": "1.5.0",
            "_model_name": "HBoxModel",
            "_view_count": null,
            "_view_module": "@jupyter-widgets/controls",
            "_view_module_version": "1.5.0",
            "_view_name": "HBoxView",
            "box_style": "",
            "children": [
              "IPY_MODEL_7568abbf20bf4aa3bf706b6d488878e8",
              "IPY_MODEL_8fe46eabbc864a2f969f79f15dd57a35",
              "IPY_MODEL_b5056939eb6a454d9b480d1e6c08dea8"
            ],
            "layout": "IPY_MODEL_69f9f0ce31a94904bfaf60950f033224"
          }
        },
        "7568abbf20bf4aa3bf706b6d488878e8": {
          "model_module": "@jupyter-widgets/controls",
          "model_name": "HTMLModel",
          "model_module_version": "1.5.0",
          "state": {
            "_dom_classes": [],
            "_model_module": "@jupyter-widgets/controls",
            "_model_module_version": "1.5.0",
            "_model_name": "HTMLModel",
            "_view_count": null,
            "_view_module": "@jupyter-widgets/controls",
            "_view_module_version": "1.5.0",
            "_view_name": "HTMLView",
            "description": "",
            "description_tooltip": null,
            "layout": "IPY_MODEL_189d362fdbc1474e9597121832cbd64f",
            "placeholder": "​",
            "style": "IPY_MODEL_4f546f4267e44b479dd25664a7b2748f",
            "value": "vocab.txt: "
          }
        },
        "8fe46eabbc864a2f969f79f15dd57a35": {
          "model_module": "@jupyter-widgets/controls",
          "model_name": "FloatProgressModel",
          "model_module_version": "1.5.0",
          "state": {
            "_dom_classes": [],
            "_model_module": "@jupyter-widgets/controls",
            "_model_module_version": "1.5.0",
            "_model_name": "FloatProgressModel",
            "_view_count": null,
            "_view_module": "@jupyter-widgets/controls",
            "_view_module_version": "1.5.0",
            "_view_name": "ProgressView",
            "bar_style": "success",
            "description": "",
            "description_tooltip": null,
            "layout": "IPY_MODEL_fd772fe9eff34704bf1ea46624c0e7c0",
            "max": 1,
            "min": 0,
            "orientation": "horizontal",
            "style": "IPY_MODEL_1eaf1a745ad54c2c9e69f3790bcf45a0",
            "value": 1
          }
        },
        "b5056939eb6a454d9b480d1e6c08dea8": {
          "model_module": "@jupyter-widgets/controls",
          "model_name": "HTMLModel",
          "model_module_version": "1.5.0",
          "state": {
            "_dom_classes": [],
            "_model_module": "@jupyter-widgets/controls",
            "_model_module_version": "1.5.0",
            "_model_name": "HTMLModel",
            "_view_count": null,
            "_view_module": "@jupyter-widgets/controls",
            "_view_module_version": "1.5.0",
            "_view_name": "HTMLView",
            "description": "",
            "description_tooltip": null,
            "layout": "IPY_MODEL_8ed1fb1fd8a24430afc8113ee6fdbca1",
            "placeholder": "​",
            "style": "IPY_MODEL_db2d37a124ef4f469c011f44f9ff8ec0",
            "value": " 232k/? [00:00&lt;00:00, 4.73MB/s]"
          }
        },
        "69f9f0ce31a94904bfaf60950f033224": {
          "model_module": "@jupyter-widgets/base",
          "model_name": "LayoutModel",
          "model_module_version": "1.2.0",
          "state": {
            "_model_module": "@jupyter-widgets/base",
            "_model_module_version": "1.2.0",
            "_model_name": "LayoutModel",
            "_view_count": null,
            "_view_module": "@jupyter-widgets/base",
            "_view_module_version": "1.2.0",
            "_view_name": "LayoutView",
            "align_content": null,
            "align_items": null,
            "align_self": null,
            "border": null,
            "bottom": null,
            "display": null,
            "flex": null,
            "flex_flow": null,
            "grid_area": null,
            "grid_auto_columns": null,
            "grid_auto_flow": null,
            "grid_auto_rows": null,
            "grid_column": null,
            "grid_gap": null,
            "grid_row": null,
            "grid_template_areas": null,
            "grid_template_columns": null,
            "grid_template_rows": null,
            "height": null,
            "justify_content": null,
            "justify_items": null,
            "left": null,
            "margin": null,
            "max_height": null,
            "max_width": null,
            "min_height": null,
            "min_width": null,
            "object_fit": null,
            "object_position": null,
            "order": null,
            "overflow": null,
            "overflow_x": null,
            "overflow_y": null,
            "padding": null,
            "right": null,
            "top": null,
            "visibility": null,
            "width": null
          }
        },
        "189d362fdbc1474e9597121832cbd64f": {
          "model_module": "@jupyter-widgets/base",
          "model_name": "LayoutModel",
          "model_module_version": "1.2.0",
          "state": {
            "_model_module": "@jupyter-widgets/base",
            "_model_module_version": "1.2.0",
            "_model_name": "LayoutModel",
            "_view_count": null,
            "_view_module": "@jupyter-widgets/base",
            "_view_module_version": "1.2.0",
            "_view_name": "LayoutView",
            "align_content": null,
            "align_items": null,
            "align_self": null,
            "border": null,
            "bottom": null,
            "display": null,
            "flex": null,
            "flex_flow": null,
            "grid_area": null,
            "grid_auto_columns": null,
            "grid_auto_flow": null,
            "grid_auto_rows": null,
            "grid_column": null,
            "grid_gap": null,
            "grid_row": null,
            "grid_template_areas": null,
            "grid_template_columns": null,
            "grid_template_rows": null,
            "height": null,
            "justify_content": null,
            "justify_items": null,
            "left": null,
            "margin": null,
            "max_height": null,
            "max_width": null,
            "min_height": null,
            "min_width": null,
            "object_fit": null,
            "object_position": null,
            "order": null,
            "overflow": null,
            "overflow_x": null,
            "overflow_y": null,
            "padding": null,
            "right": null,
            "top": null,
            "visibility": null,
            "width": null
          }
        },
        "4f546f4267e44b479dd25664a7b2748f": {
          "model_module": "@jupyter-widgets/controls",
          "model_name": "DescriptionStyleModel",
          "model_module_version": "1.5.0",
          "state": {
            "_model_module": "@jupyter-widgets/controls",
            "_model_module_version": "1.5.0",
            "_model_name": "DescriptionStyleModel",
            "_view_count": null,
            "_view_module": "@jupyter-widgets/base",
            "_view_module_version": "1.2.0",
            "_view_name": "StyleView",
            "description_width": ""
          }
        },
        "fd772fe9eff34704bf1ea46624c0e7c0": {
          "model_module": "@jupyter-widgets/base",
          "model_name": "LayoutModel",
          "model_module_version": "1.2.0",
          "state": {
            "_model_module": "@jupyter-widgets/base",
            "_model_module_version": "1.2.0",
            "_model_name": "LayoutModel",
            "_view_count": null,
            "_view_module": "@jupyter-widgets/base",
            "_view_module_version": "1.2.0",
            "_view_name": "LayoutView",
            "align_content": null,
            "align_items": null,
            "align_self": null,
            "border": null,
            "bottom": null,
            "display": null,
            "flex": null,
            "flex_flow": null,
            "grid_area": null,
            "grid_auto_columns": null,
            "grid_auto_flow": null,
            "grid_auto_rows": null,
            "grid_column": null,
            "grid_gap": null,
            "grid_row": null,
            "grid_template_areas": null,
            "grid_template_columns": null,
            "grid_template_rows": null,
            "height": null,
            "justify_content": null,
            "justify_items": null,
            "left": null,
            "margin": null,
            "max_height": null,
            "max_width": null,
            "min_height": null,
            "min_width": null,
            "object_fit": null,
            "object_position": null,
            "order": null,
            "overflow": null,
            "overflow_x": null,
            "overflow_y": null,
            "padding": null,
            "right": null,
            "top": null,
            "visibility": null,
            "width": "20px"
          }
        },
        "1eaf1a745ad54c2c9e69f3790bcf45a0": {
          "model_module": "@jupyter-widgets/controls",
          "model_name": "ProgressStyleModel",
          "model_module_version": "1.5.0",
          "state": {
            "_model_module": "@jupyter-widgets/controls",
            "_model_module_version": "1.5.0",
            "_model_name": "ProgressStyleModel",
            "_view_count": null,
            "_view_module": "@jupyter-widgets/base",
            "_view_module_version": "1.2.0",
            "_view_name": "StyleView",
            "bar_color": null,
            "description_width": ""
          }
        },
        "8ed1fb1fd8a24430afc8113ee6fdbca1": {
          "model_module": "@jupyter-widgets/base",
          "model_name": "LayoutModel",
          "model_module_version": "1.2.0",
          "state": {
            "_model_module": "@jupyter-widgets/base",
            "_model_module_version": "1.2.0",
            "_model_name": "LayoutModel",
            "_view_count": null,
            "_view_module": "@jupyter-widgets/base",
            "_view_module_version": "1.2.0",
            "_view_name": "LayoutView",
            "align_content": null,
            "align_items": null,
            "align_self": null,
            "border": null,
            "bottom": null,
            "display": null,
            "flex": null,
            "flex_flow": null,
            "grid_area": null,
            "grid_auto_columns": null,
            "grid_auto_flow": null,
            "grid_auto_rows": null,
            "grid_column": null,
            "grid_gap": null,
            "grid_row": null,
            "grid_template_areas": null,
            "grid_template_columns": null,
            "grid_template_rows": null,
            "height": null,
            "justify_content": null,
            "justify_items": null,
            "left": null,
            "margin": null,
            "max_height": null,
            "max_width": null,
            "min_height": null,
            "min_width": null,
            "object_fit": null,
            "object_position": null,
            "order": null,
            "overflow": null,
            "overflow_x": null,
            "overflow_y": null,
            "padding": null,
            "right": null,
            "top": null,
            "visibility": null,
            "width": null
          }
        },
        "db2d37a124ef4f469c011f44f9ff8ec0": {
          "model_module": "@jupyter-widgets/controls",
          "model_name": "DescriptionStyleModel",
          "model_module_version": "1.5.0",
          "state": {
            "_model_module": "@jupyter-widgets/controls",
            "_model_module_version": "1.5.0",
            "_model_name": "DescriptionStyleModel",
            "_view_count": null,
            "_view_module": "@jupyter-widgets/base",
            "_view_module_version": "1.2.0",
            "_view_name": "StyleView",
            "description_width": ""
          }
        },
        "0958413f7d0a4ed18d6edb017aae1c83": {
          "model_module": "@jupyter-widgets/controls",
          "model_name": "HBoxModel",
          "model_module_version": "1.5.0",
          "state": {
            "_dom_classes": [],
            "_model_module": "@jupyter-widgets/controls",
            "_model_module_version": "1.5.0",
            "_model_name": "HBoxModel",
            "_view_count": null,
            "_view_module": "@jupyter-widgets/controls",
            "_view_module_version": "1.5.0",
            "_view_name": "HBoxView",
            "box_style": "",
            "children": [
              "IPY_MODEL_ed8b259a99f348748d4a616e267f8dac",
              "IPY_MODEL_4ab07b195aa440f198adcfd8692942ca",
              "IPY_MODEL_9fb1aadbf5f1439ab8a95f4b63668613"
            ],
            "layout": "IPY_MODEL_a9434bfba91b4738b9d2f2116a6e8564"
          }
        },
        "ed8b259a99f348748d4a616e267f8dac": {
          "model_module": "@jupyter-widgets/controls",
          "model_name": "HTMLModel",
          "model_module_version": "1.5.0",
          "state": {
            "_dom_classes": [],
            "_model_module": "@jupyter-widgets/controls",
            "_model_module_version": "1.5.0",
            "_model_name": "HTMLModel",
            "_view_count": null,
            "_view_module": "@jupyter-widgets/controls",
            "_view_module_version": "1.5.0",
            "_view_name": "HTMLView",
            "description": "",
            "description_tooltip": null,
            "layout": "IPY_MODEL_dc25095e658241978f61c24580c0ead1",
            "placeholder": "​",
            "style": "IPY_MODEL_93f136f308d54968bc356fb2cece518d",
            "value": "tokenizer.json: "
          }
        },
        "4ab07b195aa440f198adcfd8692942ca": {
          "model_module": "@jupyter-widgets/controls",
          "model_name": "FloatProgressModel",
          "model_module_version": "1.5.0",
          "state": {
            "_dom_classes": [],
            "_model_module": "@jupyter-widgets/controls",
            "_model_module_version": "1.5.0",
            "_model_name": "FloatProgressModel",
            "_view_count": null,
            "_view_module": "@jupyter-widgets/controls",
            "_view_module_version": "1.5.0",
            "_view_name": "ProgressView",
            "bar_style": "success",
            "description": "",
            "description_tooltip": null,
            "layout": "IPY_MODEL_0b9a10b2d20c4579ab7e3eb3ff7905f4",
            "max": 1,
            "min": 0,
            "orientation": "horizontal",
            "style": "IPY_MODEL_0603fa8a1a884c97a9c91724095a8d57",
            "value": 1
          }
        },
        "9fb1aadbf5f1439ab8a95f4b63668613": {
          "model_module": "@jupyter-widgets/controls",
          "model_name": "HTMLModel",
          "model_module_version": "1.5.0",
          "state": {
            "_dom_classes": [],
            "_model_module": "@jupyter-widgets/controls",
            "_model_module_version": "1.5.0",
            "_model_name": "HTMLModel",
            "_view_count": null,
            "_view_module": "@jupyter-widgets/controls",
            "_view_module_version": "1.5.0",
            "_view_name": "HTMLView",
            "description": "",
            "description_tooltip": null,
            "layout": "IPY_MODEL_88d139b8655845c2a16d9f3352278aa5",
            "placeholder": "​",
            "style": "IPY_MODEL_242178bdd3614a248216d4c0260e182e",
            "value": " 711k/? [00:00&lt;00:00, 6.74MB/s]"
          }
        },
        "a9434bfba91b4738b9d2f2116a6e8564": {
          "model_module": "@jupyter-widgets/base",
          "model_name": "LayoutModel",
          "model_module_version": "1.2.0",
          "state": {
            "_model_module": "@jupyter-widgets/base",
            "_model_module_version": "1.2.0",
            "_model_name": "LayoutModel",
            "_view_count": null,
            "_view_module": "@jupyter-widgets/base",
            "_view_module_version": "1.2.0",
            "_view_name": "LayoutView",
            "align_content": null,
            "align_items": null,
            "align_self": null,
            "border": null,
            "bottom": null,
            "display": null,
            "flex": null,
            "flex_flow": null,
            "grid_area": null,
            "grid_auto_columns": null,
            "grid_auto_flow": null,
            "grid_auto_rows": null,
            "grid_column": null,
            "grid_gap": null,
            "grid_row": null,
            "grid_template_areas": null,
            "grid_template_columns": null,
            "grid_template_rows": null,
            "height": null,
            "justify_content": null,
            "justify_items": null,
            "left": null,
            "margin": null,
            "max_height": null,
            "max_width": null,
            "min_height": null,
            "min_width": null,
            "object_fit": null,
            "object_position": null,
            "order": null,
            "overflow": null,
            "overflow_x": null,
            "overflow_y": null,
            "padding": null,
            "right": null,
            "top": null,
            "visibility": null,
            "width": null
          }
        },
        "dc25095e658241978f61c24580c0ead1": {
          "model_module": "@jupyter-widgets/base",
          "model_name": "LayoutModel",
          "model_module_version": "1.2.0",
          "state": {
            "_model_module": "@jupyter-widgets/base",
            "_model_module_version": "1.2.0",
            "_model_name": "LayoutModel",
            "_view_count": null,
            "_view_module": "@jupyter-widgets/base",
            "_view_module_version": "1.2.0",
            "_view_name": "LayoutView",
            "align_content": null,
            "align_items": null,
            "align_self": null,
            "border": null,
            "bottom": null,
            "display": null,
            "flex": null,
            "flex_flow": null,
            "grid_area": null,
            "grid_auto_columns": null,
            "grid_auto_flow": null,
            "grid_auto_rows": null,
            "grid_column": null,
            "grid_gap": null,
            "grid_row": null,
            "grid_template_areas": null,
            "grid_template_columns": null,
            "grid_template_rows": null,
            "height": null,
            "justify_content": null,
            "justify_items": null,
            "left": null,
            "margin": null,
            "max_height": null,
            "max_width": null,
            "min_height": null,
            "min_width": null,
            "object_fit": null,
            "object_position": null,
            "order": null,
            "overflow": null,
            "overflow_x": null,
            "overflow_y": null,
            "padding": null,
            "right": null,
            "top": null,
            "visibility": null,
            "width": null
          }
        },
        "93f136f308d54968bc356fb2cece518d": {
          "model_module": "@jupyter-widgets/controls",
          "model_name": "DescriptionStyleModel",
          "model_module_version": "1.5.0",
          "state": {
            "_model_module": "@jupyter-widgets/controls",
            "_model_module_version": "1.5.0",
            "_model_name": "DescriptionStyleModel",
            "_view_count": null,
            "_view_module": "@jupyter-widgets/base",
            "_view_module_version": "1.2.0",
            "_view_name": "StyleView",
            "description_width": ""
          }
        },
        "0b9a10b2d20c4579ab7e3eb3ff7905f4": {
          "model_module": "@jupyter-widgets/base",
          "model_name": "LayoutModel",
          "model_module_version": "1.2.0",
          "state": {
            "_model_module": "@jupyter-widgets/base",
            "_model_module_version": "1.2.0",
            "_model_name": "LayoutModel",
            "_view_count": null,
            "_view_module": "@jupyter-widgets/base",
            "_view_module_version": "1.2.0",
            "_view_name": "LayoutView",
            "align_content": null,
            "align_items": null,
            "align_self": null,
            "border": null,
            "bottom": null,
            "display": null,
            "flex": null,
            "flex_flow": null,
            "grid_area": null,
            "grid_auto_columns": null,
            "grid_auto_flow": null,
            "grid_auto_rows": null,
            "grid_column": null,
            "grid_gap": null,
            "grid_row": null,
            "grid_template_areas": null,
            "grid_template_columns": null,
            "grid_template_rows": null,
            "height": null,
            "justify_content": null,
            "justify_items": null,
            "left": null,
            "margin": null,
            "max_height": null,
            "max_width": null,
            "min_height": null,
            "min_width": null,
            "object_fit": null,
            "object_position": null,
            "order": null,
            "overflow": null,
            "overflow_x": null,
            "overflow_y": null,
            "padding": null,
            "right": null,
            "top": null,
            "visibility": null,
            "width": "20px"
          }
        },
        "0603fa8a1a884c97a9c91724095a8d57": {
          "model_module": "@jupyter-widgets/controls",
          "model_name": "ProgressStyleModel",
          "model_module_version": "1.5.0",
          "state": {
            "_model_module": "@jupyter-widgets/controls",
            "_model_module_version": "1.5.0",
            "_model_name": "ProgressStyleModel",
            "_view_count": null,
            "_view_module": "@jupyter-widgets/base",
            "_view_module_version": "1.2.0",
            "_view_name": "StyleView",
            "bar_color": null,
            "description_width": ""
          }
        },
        "88d139b8655845c2a16d9f3352278aa5": {
          "model_module": "@jupyter-widgets/base",
          "model_name": "LayoutModel",
          "model_module_version": "1.2.0",
          "state": {
            "_model_module": "@jupyter-widgets/base",
            "_model_module_version": "1.2.0",
            "_model_name": "LayoutModel",
            "_view_count": null,
            "_view_module": "@jupyter-widgets/base",
            "_view_module_version": "1.2.0",
            "_view_name": "LayoutView",
            "align_content": null,
            "align_items": null,
            "align_self": null,
            "border": null,
            "bottom": null,
            "display": null,
            "flex": null,
            "flex_flow": null,
            "grid_area": null,
            "grid_auto_columns": null,
            "grid_auto_flow": null,
            "grid_auto_rows": null,
            "grid_column": null,
            "grid_gap": null,
            "grid_row": null,
            "grid_template_areas": null,
            "grid_template_columns": null,
            "grid_template_rows": null,
            "height": null,
            "justify_content": null,
            "justify_items": null,
            "left": null,
            "margin": null,
            "max_height": null,
            "max_width": null,
            "min_height": null,
            "min_width": null,
            "object_fit": null,
            "object_position": null,
            "order": null,
            "overflow": null,
            "overflow_x": null,
            "overflow_y": null,
            "padding": null,
            "right": null,
            "top": null,
            "visibility": null,
            "width": null
          }
        },
        "242178bdd3614a248216d4c0260e182e": {
          "model_module": "@jupyter-widgets/controls",
          "model_name": "DescriptionStyleModel",
          "model_module_version": "1.5.0",
          "state": {
            "_model_module": "@jupyter-widgets/controls",
            "_model_module_version": "1.5.0",
            "_model_name": "DescriptionStyleModel",
            "_view_count": null,
            "_view_module": "@jupyter-widgets/base",
            "_view_module_version": "1.2.0",
            "_view_name": "StyleView",
            "description_width": ""
          }
        },
        "e7f31b93e6284a5b8ca5c64f7c0e1f3a": {
          "model_module": "@jupyter-widgets/controls",
          "model_name": "HBoxModel",
          "model_module_version": "1.5.0",
          "state": {
            "_dom_classes": [],
            "_model_module": "@jupyter-widgets/controls",
            "_model_module_version": "1.5.0",
            "_model_name": "HBoxModel",
            "_view_count": null,
            "_view_module": "@jupyter-widgets/controls",
            "_view_module_version": "1.5.0",
            "_view_name": "HBoxView",
            "box_style": "",
            "children": [
              "IPY_MODEL_2a8bec7933bd47c6abc94e661a1da183",
              "IPY_MODEL_0ab97815d7ce42649698631fe60aca3d",
              "IPY_MODEL_36db076f47484339a2bdccca28c1ff8f"
            ],
            "layout": "IPY_MODEL_dd298c00c2514f3d925ba8c0a4dc5369"
          }
        },
        "2a8bec7933bd47c6abc94e661a1da183": {
          "model_module": "@jupyter-widgets/controls",
          "model_name": "HTMLModel",
          "model_module_version": "1.5.0",
          "state": {
            "_dom_classes": [],
            "_model_module": "@jupyter-widgets/controls",
            "_model_module_version": "1.5.0",
            "_model_name": "HTMLModel",
            "_view_count": null,
            "_view_module": "@jupyter-widgets/controls",
            "_view_module_version": "1.5.0",
            "_view_name": "HTMLView",
            "description": "",
            "description_tooltip": null,
            "layout": "IPY_MODEL_fefea3a059f54d8ea3e4d58187ab6743",
            "placeholder": "​",
            "style": "IPY_MODEL_c07a236ac0bd4a6596554d7183789cea",
            "value": "special_tokens_map.json: 100%"
          }
        },
        "0ab97815d7ce42649698631fe60aca3d": {
          "model_module": "@jupyter-widgets/controls",
          "model_name": "FloatProgressModel",
          "model_module_version": "1.5.0",
          "state": {
            "_dom_classes": [],
            "_model_module": "@jupyter-widgets/controls",
            "_model_module_version": "1.5.0",
            "_model_name": "FloatProgressModel",
            "_view_count": null,
            "_view_module": "@jupyter-widgets/controls",
            "_view_module_version": "1.5.0",
            "_view_name": "ProgressView",
            "bar_style": "success",
            "description": "",
            "description_tooltip": null,
            "layout": "IPY_MODEL_99f2cad11c9540e7ac72b60464a9ed2d",
            "max": 125,
            "min": 0,
            "orientation": "horizontal",
            "style": "IPY_MODEL_aca31548fbb446a794fd802eb253754c",
            "value": 125
          }
        },
        "36db076f47484339a2bdccca28c1ff8f": {
          "model_module": "@jupyter-widgets/controls",
          "model_name": "HTMLModel",
          "model_module_version": "1.5.0",
          "state": {
            "_dom_classes": [],
            "_model_module": "@jupyter-widgets/controls",
            "_model_module_version": "1.5.0",
            "_model_name": "HTMLModel",
            "_view_count": null,
            "_view_module": "@jupyter-widgets/controls",
            "_view_module_version": "1.5.0",
            "_view_name": "HTMLView",
            "description": "",
            "description_tooltip": null,
            "layout": "IPY_MODEL_e66820514a2d40e584fba191cedc3b52",
            "placeholder": "​",
            "style": "IPY_MODEL_211297fbe9674ca49a97033341cd083b",
            "value": " 125/125 [00:00&lt;00:00, 4.30kB/s]"
          }
        },
        "dd298c00c2514f3d925ba8c0a4dc5369": {
          "model_module": "@jupyter-widgets/base",
          "model_name": "LayoutModel",
          "model_module_version": "1.2.0",
          "state": {
            "_model_module": "@jupyter-widgets/base",
            "_model_module_version": "1.2.0",
            "_model_name": "LayoutModel",
            "_view_count": null,
            "_view_module": "@jupyter-widgets/base",
            "_view_module_version": "1.2.0",
            "_view_name": "LayoutView",
            "align_content": null,
            "align_items": null,
            "align_self": null,
            "border": null,
            "bottom": null,
            "display": null,
            "flex": null,
            "flex_flow": null,
            "grid_area": null,
            "grid_auto_columns": null,
            "grid_auto_flow": null,
            "grid_auto_rows": null,
            "grid_column": null,
            "grid_gap": null,
            "grid_row": null,
            "grid_template_areas": null,
            "grid_template_columns": null,
            "grid_template_rows": null,
            "height": null,
            "justify_content": null,
            "justify_items": null,
            "left": null,
            "margin": null,
            "max_height": null,
            "max_width": null,
            "min_height": null,
            "min_width": null,
            "object_fit": null,
            "object_position": null,
            "order": null,
            "overflow": null,
            "overflow_x": null,
            "overflow_y": null,
            "padding": null,
            "right": null,
            "top": null,
            "visibility": null,
            "width": null
          }
        },
        "fefea3a059f54d8ea3e4d58187ab6743": {
          "model_module": "@jupyter-widgets/base",
          "model_name": "LayoutModel",
          "model_module_version": "1.2.0",
          "state": {
            "_model_module": "@jupyter-widgets/base",
            "_model_module_version": "1.2.0",
            "_model_name": "LayoutModel",
            "_view_count": null,
            "_view_module": "@jupyter-widgets/base",
            "_view_module_version": "1.2.0",
            "_view_name": "LayoutView",
            "align_content": null,
            "align_items": null,
            "align_self": null,
            "border": null,
            "bottom": null,
            "display": null,
            "flex": null,
            "flex_flow": null,
            "grid_area": null,
            "grid_auto_columns": null,
            "grid_auto_flow": null,
            "grid_auto_rows": null,
            "grid_column": null,
            "grid_gap": null,
            "grid_row": null,
            "grid_template_areas": null,
            "grid_template_columns": null,
            "grid_template_rows": null,
            "height": null,
            "justify_content": null,
            "justify_items": null,
            "left": null,
            "margin": null,
            "max_height": null,
            "max_width": null,
            "min_height": null,
            "min_width": null,
            "object_fit": null,
            "object_position": null,
            "order": null,
            "overflow": null,
            "overflow_x": null,
            "overflow_y": null,
            "padding": null,
            "right": null,
            "top": null,
            "visibility": null,
            "width": null
          }
        },
        "c07a236ac0bd4a6596554d7183789cea": {
          "model_module": "@jupyter-widgets/controls",
          "model_name": "DescriptionStyleModel",
          "model_module_version": "1.5.0",
          "state": {
            "_model_module": "@jupyter-widgets/controls",
            "_model_module_version": "1.5.0",
            "_model_name": "DescriptionStyleModel",
            "_view_count": null,
            "_view_module": "@jupyter-widgets/base",
            "_view_module_version": "1.2.0",
            "_view_name": "StyleView",
            "description_width": ""
          }
        },
        "99f2cad11c9540e7ac72b60464a9ed2d": {
          "model_module": "@jupyter-widgets/base",
          "model_name": "LayoutModel",
          "model_module_version": "1.2.0",
          "state": {
            "_model_module": "@jupyter-widgets/base",
            "_model_module_version": "1.2.0",
            "_model_name": "LayoutModel",
            "_view_count": null,
            "_view_module": "@jupyter-widgets/base",
            "_view_module_version": "1.2.0",
            "_view_name": "LayoutView",
            "align_content": null,
            "align_items": null,
            "align_self": null,
            "border": null,
            "bottom": null,
            "display": null,
            "flex": null,
            "flex_flow": null,
            "grid_area": null,
            "grid_auto_columns": null,
            "grid_auto_flow": null,
            "grid_auto_rows": null,
            "grid_column": null,
            "grid_gap": null,
            "grid_row": null,
            "grid_template_areas": null,
            "grid_template_columns": null,
            "grid_template_rows": null,
            "height": null,
            "justify_content": null,
            "justify_items": null,
            "left": null,
            "margin": null,
            "max_height": null,
            "max_width": null,
            "min_height": null,
            "min_width": null,
            "object_fit": null,
            "object_position": null,
            "order": null,
            "overflow": null,
            "overflow_x": null,
            "overflow_y": null,
            "padding": null,
            "right": null,
            "top": null,
            "visibility": null,
            "width": null
          }
        },
        "aca31548fbb446a794fd802eb253754c": {
          "model_module": "@jupyter-widgets/controls",
          "model_name": "ProgressStyleModel",
          "model_module_version": "1.5.0",
          "state": {
            "_model_module": "@jupyter-widgets/controls",
            "_model_module_version": "1.5.0",
            "_model_name": "ProgressStyleModel",
            "_view_count": null,
            "_view_module": "@jupyter-widgets/base",
            "_view_module_version": "1.2.0",
            "_view_name": "StyleView",
            "bar_color": null,
            "description_width": ""
          }
        },
        "e66820514a2d40e584fba191cedc3b52": {
          "model_module": "@jupyter-widgets/base",
          "model_name": "LayoutModel",
          "model_module_version": "1.2.0",
          "state": {
            "_model_module": "@jupyter-widgets/base",
            "_model_module_version": "1.2.0",
            "_model_name": "LayoutModel",
            "_view_count": null,
            "_view_module": "@jupyter-widgets/base",
            "_view_module_version": "1.2.0",
            "_view_name": "LayoutView",
            "align_content": null,
            "align_items": null,
            "align_self": null,
            "border": null,
            "bottom": null,
            "display": null,
            "flex": null,
            "flex_flow": null,
            "grid_area": null,
            "grid_auto_columns": null,
            "grid_auto_flow": null,
            "grid_auto_rows": null,
            "grid_column": null,
            "grid_gap": null,
            "grid_row": null,
            "grid_template_areas": null,
            "grid_template_columns": null,
            "grid_template_rows": null,
            "height": null,
            "justify_content": null,
            "justify_items": null,
            "left": null,
            "margin": null,
            "max_height": null,
            "max_width": null,
            "min_height": null,
            "min_width": null,
            "object_fit": null,
            "object_position": null,
            "order": null,
            "overflow": null,
            "overflow_x": null,
            "overflow_y": null,
            "padding": null,
            "right": null,
            "top": null,
            "visibility": null,
            "width": null
          }
        },
        "211297fbe9674ca49a97033341cd083b": {
          "model_module": "@jupyter-widgets/controls",
          "model_name": "DescriptionStyleModel",
          "model_module_version": "1.5.0",
          "state": {
            "_model_module": "@jupyter-widgets/controls",
            "_model_module_version": "1.5.0",
            "_model_name": "DescriptionStyleModel",
            "_view_count": null,
            "_view_module": "@jupyter-widgets/base",
            "_view_module_version": "1.2.0",
            "_view_name": "StyleView",
            "description_width": ""
          }
        },
        "265d0c863ed14c00896c6765c0c3e8f9": {
          "model_module": "@jupyter-widgets/controls",
          "model_name": "HBoxModel",
          "model_module_version": "1.5.0",
          "state": {
            "_dom_classes": [],
            "_model_module": "@jupyter-widgets/controls",
            "_model_module_version": "1.5.0",
            "_model_name": "HBoxModel",
            "_view_count": null,
            "_view_module": "@jupyter-widgets/controls",
            "_view_module_version": "1.5.0",
            "_view_name": "HBoxView",
            "box_style": "",
            "children": [
              "IPY_MODEL_4c1ad3a70a0149de86202eaed6602448",
              "IPY_MODEL_d3931af30b984d98ba843e62e84dc56a",
              "IPY_MODEL_c2b290e3acd64d048d4e32f16a63da02"
            ],
            "layout": "IPY_MODEL_71ed1a2ce4c04be689c5940d196ba7c1"
          }
        },
        "4c1ad3a70a0149de86202eaed6602448": {
          "model_module": "@jupyter-widgets/controls",
          "model_name": "HTMLModel",
          "model_module_version": "1.5.0",
          "state": {
            "_dom_classes": [],
            "_model_module": "@jupyter-widgets/controls",
            "_model_module_version": "1.5.0",
            "_model_name": "HTMLModel",
            "_view_count": null,
            "_view_module": "@jupyter-widgets/controls",
            "_view_module_version": "1.5.0",
            "_view_name": "HTMLView",
            "description": "",
            "description_tooltip": null,
            "layout": "IPY_MODEL_46a1c9bdb74a4ef1bcd191f801e136b3",
            "placeholder": "​",
            "style": "IPY_MODEL_2461d356088d4f78b38f31da6d4cbec2",
            "value": "config.json: 100%"
          }
        },
        "d3931af30b984d98ba843e62e84dc56a": {
          "model_module": "@jupyter-widgets/controls",
          "model_name": "FloatProgressModel",
          "model_module_version": "1.5.0",
          "state": {
            "_dom_classes": [],
            "_model_module": "@jupyter-widgets/controls",
            "_model_module_version": "1.5.0",
            "_model_name": "FloatProgressModel",
            "_view_count": null,
            "_view_module": "@jupyter-widgets/controls",
            "_view_module_version": "1.5.0",
            "_view_name": "ProgressView",
            "bar_style": "success",
            "description": "",
            "description_tooltip": null,
            "layout": "IPY_MODEL_04551d809f714fdd85eb6d6b29bf69e8",
            "max": 684,
            "min": 0,
            "orientation": "horizontal",
            "style": "IPY_MODEL_720c73a4b02d4ae6b2a1eca1b21646bf",
            "value": 684
          }
        },
        "c2b290e3acd64d048d4e32f16a63da02": {
          "model_module": "@jupyter-widgets/controls",
          "model_name": "HTMLModel",
          "model_module_version": "1.5.0",
          "state": {
            "_dom_classes": [],
            "_model_module": "@jupyter-widgets/controls",
            "_model_module_version": "1.5.0",
            "_model_name": "HTMLModel",
            "_view_count": null,
            "_view_module": "@jupyter-widgets/controls",
            "_view_module_version": "1.5.0",
            "_view_name": "HTMLView",
            "description": "",
            "description_tooltip": null,
            "layout": "IPY_MODEL_a7fefd36c51b4c1586cb8bcfff1a8150",
            "placeholder": "​",
            "style": "IPY_MODEL_01ea22f976184dd580041290552e42a7",
            "value": " 684/684 [00:00&lt;00:00, 13.5kB/s]"
          }
        },
        "71ed1a2ce4c04be689c5940d196ba7c1": {
          "model_module": "@jupyter-widgets/base",
          "model_name": "LayoutModel",
          "model_module_version": "1.2.0",
          "state": {
            "_model_module": "@jupyter-widgets/base",
            "_model_module_version": "1.2.0",
            "_model_name": "LayoutModel",
            "_view_count": null,
            "_view_module": "@jupyter-widgets/base",
            "_view_module_version": "1.2.0",
            "_view_name": "LayoutView",
            "align_content": null,
            "align_items": null,
            "align_self": null,
            "border": null,
            "bottom": null,
            "display": null,
            "flex": null,
            "flex_flow": null,
            "grid_area": null,
            "grid_auto_columns": null,
            "grid_auto_flow": null,
            "grid_auto_rows": null,
            "grid_column": null,
            "grid_gap": null,
            "grid_row": null,
            "grid_template_areas": null,
            "grid_template_columns": null,
            "grid_template_rows": null,
            "height": null,
            "justify_content": null,
            "justify_items": null,
            "left": null,
            "margin": null,
            "max_height": null,
            "max_width": null,
            "min_height": null,
            "min_width": null,
            "object_fit": null,
            "object_position": null,
            "order": null,
            "overflow": null,
            "overflow_x": null,
            "overflow_y": null,
            "padding": null,
            "right": null,
            "top": null,
            "visibility": null,
            "width": null
          }
        },
        "46a1c9bdb74a4ef1bcd191f801e136b3": {
          "model_module": "@jupyter-widgets/base",
          "model_name": "LayoutModel",
          "model_module_version": "1.2.0",
          "state": {
            "_model_module": "@jupyter-widgets/base",
            "_model_module_version": "1.2.0",
            "_model_name": "LayoutModel",
            "_view_count": null,
            "_view_module": "@jupyter-widgets/base",
            "_view_module_version": "1.2.0",
            "_view_name": "LayoutView",
            "align_content": null,
            "align_items": null,
            "align_self": null,
            "border": null,
            "bottom": null,
            "display": null,
            "flex": null,
            "flex_flow": null,
            "grid_area": null,
            "grid_auto_columns": null,
            "grid_auto_flow": null,
            "grid_auto_rows": null,
            "grid_column": null,
            "grid_gap": null,
            "grid_row": null,
            "grid_template_areas": null,
            "grid_template_columns": null,
            "grid_template_rows": null,
            "height": null,
            "justify_content": null,
            "justify_items": null,
            "left": null,
            "margin": null,
            "max_height": null,
            "max_width": null,
            "min_height": null,
            "min_width": null,
            "object_fit": null,
            "object_position": null,
            "order": null,
            "overflow": null,
            "overflow_x": null,
            "overflow_y": null,
            "padding": null,
            "right": null,
            "top": null,
            "visibility": null,
            "width": null
          }
        },
        "2461d356088d4f78b38f31da6d4cbec2": {
          "model_module": "@jupyter-widgets/controls",
          "model_name": "DescriptionStyleModel",
          "model_module_version": "1.5.0",
          "state": {
            "_model_module": "@jupyter-widgets/controls",
            "_model_module_version": "1.5.0",
            "_model_name": "DescriptionStyleModel",
            "_view_count": null,
            "_view_module": "@jupyter-widgets/base",
            "_view_module_version": "1.2.0",
            "_view_name": "StyleView",
            "description_width": ""
          }
        },
        "04551d809f714fdd85eb6d6b29bf69e8": {
          "model_module": "@jupyter-widgets/base",
          "model_name": "LayoutModel",
          "model_module_version": "1.2.0",
          "state": {
            "_model_module": "@jupyter-widgets/base",
            "_model_module_version": "1.2.0",
            "_model_name": "LayoutModel",
            "_view_count": null,
            "_view_module": "@jupyter-widgets/base",
            "_view_module_version": "1.2.0",
            "_view_name": "LayoutView",
            "align_content": null,
            "align_items": null,
            "align_self": null,
            "border": null,
            "bottom": null,
            "display": null,
            "flex": null,
            "flex_flow": null,
            "grid_area": null,
            "grid_auto_columns": null,
            "grid_auto_flow": null,
            "grid_auto_rows": null,
            "grid_column": null,
            "grid_gap": null,
            "grid_row": null,
            "grid_template_areas": null,
            "grid_template_columns": null,
            "grid_template_rows": null,
            "height": null,
            "justify_content": null,
            "justify_items": null,
            "left": null,
            "margin": null,
            "max_height": null,
            "max_width": null,
            "min_height": null,
            "min_width": null,
            "object_fit": null,
            "object_position": null,
            "order": null,
            "overflow": null,
            "overflow_x": null,
            "overflow_y": null,
            "padding": null,
            "right": null,
            "top": null,
            "visibility": null,
            "width": null
          }
        },
        "720c73a4b02d4ae6b2a1eca1b21646bf": {
          "model_module": "@jupyter-widgets/controls",
          "model_name": "ProgressStyleModel",
          "model_module_version": "1.5.0",
          "state": {
            "_model_module": "@jupyter-widgets/controls",
            "_model_module_version": "1.5.0",
            "_model_name": "ProgressStyleModel",
            "_view_count": null,
            "_view_module": "@jupyter-widgets/base",
            "_view_module_version": "1.2.0",
            "_view_name": "StyleView",
            "bar_color": null,
            "description_width": ""
          }
        },
        "a7fefd36c51b4c1586cb8bcfff1a8150": {
          "model_module": "@jupyter-widgets/base",
          "model_name": "LayoutModel",
          "model_module_version": "1.2.0",
          "state": {
            "_model_module": "@jupyter-widgets/base",
            "_model_module_version": "1.2.0",
            "_model_name": "LayoutModel",
            "_view_count": null,
            "_view_module": "@jupyter-widgets/base",
            "_view_module_version": "1.2.0",
            "_view_name": "LayoutView",
            "align_content": null,
            "align_items": null,
            "align_self": null,
            "border": null,
            "bottom": null,
            "display": null,
            "flex": null,
            "flex_flow": null,
            "grid_area": null,
            "grid_auto_columns": null,
            "grid_auto_flow": null,
            "grid_auto_rows": null,
            "grid_column": null,
            "grid_gap": null,
            "grid_row": null,
            "grid_template_areas": null,
            "grid_template_columns": null,
            "grid_template_rows": null,
            "height": null,
            "justify_content": null,
            "justify_items": null,
            "left": null,
            "margin": null,
            "max_height": null,
            "max_width": null,
            "min_height": null,
            "min_width": null,
            "object_fit": null,
            "object_position": null,
            "order": null,
            "overflow": null,
            "overflow_x": null,
            "overflow_y": null,
            "padding": null,
            "right": null,
            "top": null,
            "visibility": null,
            "width": null
          }
        },
        "01ea22f976184dd580041290552e42a7": {
          "model_module": "@jupyter-widgets/controls",
          "model_name": "DescriptionStyleModel",
          "model_module_version": "1.5.0",
          "state": {
            "_model_module": "@jupyter-widgets/controls",
            "_model_module_version": "1.5.0",
            "_model_name": "DescriptionStyleModel",
            "_view_count": null,
            "_view_module": "@jupyter-widgets/base",
            "_view_module_version": "1.2.0",
            "_view_name": "StyleView",
            "description_width": ""
          }
        },
        "18bf0dc7e8ea4d70837feda13317c176": {
          "model_module": "@jupyter-widgets/controls",
          "model_name": "HBoxModel",
          "model_module_version": "1.5.0",
          "state": {
            "_dom_classes": [],
            "_model_module": "@jupyter-widgets/controls",
            "_model_module_version": "1.5.0",
            "_model_name": "HBoxModel",
            "_view_count": null,
            "_view_module": "@jupyter-widgets/controls",
            "_view_module_version": "1.5.0",
            "_view_name": "HBoxView",
            "box_style": "",
            "children": [
              "IPY_MODEL_57fab65b0df248f9813a7cd99e9cdc36",
              "IPY_MODEL_65d14c8f84f64f9496e81a7b70455b30",
              "IPY_MODEL_702dcbefd168499f9d7892eedb55ba4b"
            ],
            "layout": "IPY_MODEL_3b1bd4cb3b7f4a17a87b861b0fd3b656"
          }
        },
        "57fab65b0df248f9813a7cd99e9cdc36": {
          "model_module": "@jupyter-widgets/controls",
          "model_name": "HTMLModel",
          "model_module_version": "1.5.0",
          "state": {
            "_dom_classes": [],
            "_model_module": "@jupyter-widgets/controls",
            "_model_module_version": "1.5.0",
            "_model_name": "HTMLModel",
            "_view_count": null,
            "_view_module": "@jupyter-widgets/controls",
            "_view_module_version": "1.5.0",
            "_view_name": "HTMLView",
            "description": "",
            "description_tooltip": null,
            "layout": "IPY_MODEL_6d0fc48544ca46bfa839d76649c6397f",
            "placeholder": "​",
            "style": "IPY_MODEL_d96dba3c026440dab8420b24c89a19cd",
            "value": "model.safetensors: 100%"
          }
        },
        "65d14c8f84f64f9496e81a7b70455b30": {
          "model_module": "@jupyter-widgets/controls",
          "model_name": "FloatProgressModel",
          "model_module_version": "1.5.0",
          "state": {
            "_dom_classes": [],
            "_model_module": "@jupyter-widgets/controls",
            "_model_module_version": "1.5.0",
            "_model_name": "FloatProgressModel",
            "_view_count": null,
            "_view_module": "@jupyter-widgets/controls",
            "_view_module_version": "1.5.0",
            "_view_name": "ProgressView",
            "bar_style": "success",
            "description": "",
            "description_tooltip": null,
            "layout": "IPY_MODEL_ddcb399fbe2e407dbbc587f9ca12ca64",
            "max": 133466304,
            "min": 0,
            "orientation": "horizontal",
            "style": "IPY_MODEL_d504740371c34aea8c95d00d87e625f4",
            "value": 133466304
          }
        },
        "702dcbefd168499f9d7892eedb55ba4b": {
          "model_module": "@jupyter-widgets/controls",
          "model_name": "HTMLModel",
          "model_module_version": "1.5.0",
          "state": {
            "_dom_classes": [],
            "_model_module": "@jupyter-widgets/controls",
            "_model_module_version": "1.5.0",
            "_model_name": "HTMLModel",
            "_view_count": null,
            "_view_module": "@jupyter-widgets/controls",
            "_view_module_version": "1.5.0",
            "_view_name": "HTMLView",
            "description": "",
            "description_tooltip": null,
            "layout": "IPY_MODEL_919b2d11c6d2402b9b976e0801affc2b",
            "placeholder": "​",
            "style": "IPY_MODEL_f0f787488d51488189090ee090275be8",
            "value": " 133M/133M [00:02&lt;00:00, 69.9MB/s]"
          }
        },
        "3b1bd4cb3b7f4a17a87b861b0fd3b656": {
          "model_module": "@jupyter-widgets/base",
          "model_name": "LayoutModel",
          "model_module_version": "1.2.0",
          "state": {
            "_model_module": "@jupyter-widgets/base",
            "_model_module_version": "1.2.0",
            "_model_name": "LayoutModel",
            "_view_count": null,
            "_view_module": "@jupyter-widgets/base",
            "_view_module_version": "1.2.0",
            "_view_name": "LayoutView",
            "align_content": null,
            "align_items": null,
            "align_self": null,
            "border": null,
            "bottom": null,
            "display": null,
            "flex": null,
            "flex_flow": null,
            "grid_area": null,
            "grid_auto_columns": null,
            "grid_auto_flow": null,
            "grid_auto_rows": null,
            "grid_column": null,
            "grid_gap": null,
            "grid_row": null,
            "grid_template_areas": null,
            "grid_template_columns": null,
            "grid_template_rows": null,
            "height": null,
            "justify_content": null,
            "justify_items": null,
            "left": null,
            "margin": null,
            "max_height": null,
            "max_width": null,
            "min_height": null,
            "min_width": null,
            "object_fit": null,
            "object_position": null,
            "order": null,
            "overflow": null,
            "overflow_x": null,
            "overflow_y": null,
            "padding": null,
            "right": null,
            "top": null,
            "visibility": null,
            "width": null
          }
        },
        "6d0fc48544ca46bfa839d76649c6397f": {
          "model_module": "@jupyter-widgets/base",
          "model_name": "LayoutModel",
          "model_module_version": "1.2.0",
          "state": {
            "_model_module": "@jupyter-widgets/base",
            "_model_module_version": "1.2.0",
            "_model_name": "LayoutModel",
            "_view_count": null,
            "_view_module": "@jupyter-widgets/base",
            "_view_module_version": "1.2.0",
            "_view_name": "LayoutView",
            "align_content": null,
            "align_items": null,
            "align_self": null,
            "border": null,
            "bottom": null,
            "display": null,
            "flex": null,
            "flex_flow": null,
            "grid_area": null,
            "grid_auto_columns": null,
            "grid_auto_flow": null,
            "grid_auto_rows": null,
            "grid_column": null,
            "grid_gap": null,
            "grid_row": null,
            "grid_template_areas": null,
            "grid_template_columns": null,
            "grid_template_rows": null,
            "height": null,
            "justify_content": null,
            "justify_items": null,
            "left": null,
            "margin": null,
            "max_height": null,
            "max_width": null,
            "min_height": null,
            "min_width": null,
            "object_fit": null,
            "object_position": null,
            "order": null,
            "overflow": null,
            "overflow_x": null,
            "overflow_y": null,
            "padding": null,
            "right": null,
            "top": null,
            "visibility": null,
            "width": null
          }
        },
        "d96dba3c026440dab8420b24c89a19cd": {
          "model_module": "@jupyter-widgets/controls",
          "model_name": "DescriptionStyleModel",
          "model_module_version": "1.5.0",
          "state": {
            "_model_module": "@jupyter-widgets/controls",
            "_model_module_version": "1.5.0",
            "_model_name": "DescriptionStyleModel",
            "_view_count": null,
            "_view_module": "@jupyter-widgets/base",
            "_view_module_version": "1.2.0",
            "_view_name": "StyleView",
            "description_width": ""
          }
        },
        "ddcb399fbe2e407dbbc587f9ca12ca64": {
          "model_module": "@jupyter-widgets/base",
          "model_name": "LayoutModel",
          "model_module_version": "1.2.0",
          "state": {
            "_model_module": "@jupyter-widgets/base",
            "_model_module_version": "1.2.0",
            "_model_name": "LayoutModel",
            "_view_count": null,
            "_view_module": "@jupyter-widgets/base",
            "_view_module_version": "1.2.0",
            "_view_name": "LayoutView",
            "align_content": null,
            "align_items": null,
            "align_self": null,
            "border": null,
            "bottom": null,
            "display": null,
            "flex": null,
            "flex_flow": null,
            "grid_area": null,
            "grid_auto_columns": null,
            "grid_auto_flow": null,
            "grid_auto_rows": null,
            "grid_column": null,
            "grid_gap": null,
            "grid_row": null,
            "grid_template_areas": null,
            "grid_template_columns": null,
            "grid_template_rows": null,
            "height": null,
            "justify_content": null,
            "justify_items": null,
            "left": null,
            "margin": null,
            "max_height": null,
            "max_width": null,
            "min_height": null,
            "min_width": null,
            "object_fit": null,
            "object_position": null,
            "order": null,
            "overflow": null,
            "overflow_x": null,
            "overflow_y": null,
            "padding": null,
            "right": null,
            "top": null,
            "visibility": null,
            "width": null
          }
        },
        "d504740371c34aea8c95d00d87e625f4": {
          "model_module": "@jupyter-widgets/controls",
          "model_name": "ProgressStyleModel",
          "model_module_version": "1.5.0",
          "state": {
            "_model_module": "@jupyter-widgets/controls",
            "_model_module_version": "1.5.0",
            "_model_name": "ProgressStyleModel",
            "_view_count": null,
            "_view_module": "@jupyter-widgets/base",
            "_view_module_version": "1.2.0",
            "_view_name": "StyleView",
            "bar_color": null,
            "description_width": ""
          }
        },
        "919b2d11c6d2402b9b976e0801affc2b": {
          "model_module": "@jupyter-widgets/base",
          "model_name": "LayoutModel",
          "model_module_version": "1.2.0",
          "state": {
            "_model_module": "@jupyter-widgets/base",
            "_model_module_version": "1.2.0",
            "_model_name": "LayoutModel",
            "_view_count": null,
            "_view_module": "@jupyter-widgets/base",
            "_view_module_version": "1.2.0",
            "_view_name": "LayoutView",
            "align_content": null,
            "align_items": null,
            "align_self": null,
            "border": null,
            "bottom": null,
            "display": null,
            "flex": null,
            "flex_flow": null,
            "grid_area": null,
            "grid_auto_columns": null,
            "grid_auto_flow": null,
            "grid_auto_rows": null,
            "grid_column": null,
            "grid_gap": null,
            "grid_row": null,
            "grid_template_areas": null,
            "grid_template_columns": null,
            "grid_template_rows": null,
            "height": null,
            "justify_content": null,
            "justify_items": null,
            "left": null,
            "margin": null,
            "max_height": null,
            "max_width": null,
            "min_height": null,
            "min_width": null,
            "object_fit": null,
            "object_position": null,
            "order": null,
            "overflow": null,
            "overflow_x": null,
            "overflow_y": null,
            "padding": null,
            "right": null,
            "top": null,
            "visibility": null,
            "width": null
          }
        },
        "f0f787488d51488189090ee090275be8": {
          "model_module": "@jupyter-widgets/controls",
          "model_name": "DescriptionStyleModel",
          "model_module_version": "1.5.0",
          "state": {
            "_model_module": "@jupyter-widgets/controls",
            "_model_module_version": "1.5.0",
            "_model_name": "DescriptionStyleModel",
            "_view_count": null,
            "_view_module": "@jupyter-widgets/base",
            "_view_module_version": "1.2.0",
            "_view_name": "StyleView",
            "description_width": ""
          }
        }
      }
    }
  },
  "nbformat": 4,
  "nbformat_minor": 0
}